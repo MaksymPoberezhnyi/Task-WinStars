{
 "cells": [
  {
   "cell_type": "markdown",
   "metadata": {},
   "source": [
    "## **Импортируем библиотеки для обработки данных**"
   ]
  },
  {
   "cell_type": "code",
   "execution_count": 1,
   "metadata": {},
   "outputs": [],
   "source": [
    "import pandas as pd\n",
    "import numpy as np\n",
    "from matplotlib import pyplot as plt\n",
    "import seaborn as sns\n",
    "from sklearn.pipeline import Pipeline\n",
    "from sklearn.base import TransformerMixin\n",
    "from sklearn.preprocessing import MinMaxScaler,StandardScaler"
   ]
  },
  {
   "cell_type": "markdown",
   "metadata": {},
   "source": [
    "## **Загружаем датасет**"
   ]
  },
  {
   "cell_type": "code",
   "execution_count": 2,
   "metadata": {},
   "outputs": [],
   "source": [
    "adult_data = pd.read_csv('adult.csv') # <чтение файла с данными с сохранением в adult_data>"
   ]
  },
  {
   "cell_type": "markdown",
   "metadata": {},
   "source": [
    "## **Описание датасета**"
   ]
  },
  {
   "cell_type": "code",
   "execution_count": 3,
   "metadata": {},
   "outputs": [
    {
     "data": {
      "text/plain": [
       "(32561, 15)"
      ]
     },
     "execution_count": 3,
     "metadata": {},
     "output_type": "execute_result"
    }
   ],
   "source": [
    "adult_data.shape # <получение общего размера таблицы adult_data>"
   ]
  },
  {
   "cell_type": "code",
   "execution_count": 4,
   "metadata": {
    "scrolled": true
   },
   "outputs": [
    {
     "name": "stdout",
     "output_type": "stream",
     "text": [
      "<class 'pandas.core.frame.DataFrame'>\n",
      "RangeIndex: 32561 entries, 0 to 32560\n",
      "Data columns (total 15 columns):\n",
      "age               32561 non-null int64\n",
      "workclass         32561 non-null object\n",
      "fnlwgt            32561 non-null int64\n",
      "education         32561 non-null object\n",
      "education.num     32561 non-null int64\n",
      "marital.status    32561 non-null object\n",
      "occupation        32561 non-null object\n",
      "relationship      32561 non-null object\n",
      "race              32561 non-null object\n",
      "sex               32561 non-null object\n",
      "capital.gain      32561 non-null int64\n",
      "capital.loss      32561 non-null int64\n",
      "hours.per.week    32561 non-null int64\n",
      "native.country    32561 non-null object\n",
      "income            32561 non-null object\n",
      "dtypes: int64(6), object(9)\n",
      "memory usage: 3.7+ MB\n"
     ]
    }
   ],
   "source": [
    "adult_data.info() # <получение общей информации о данных в таблице adult_data>"
   ]
  },
  {
   "cell_type": "code",
   "execution_count": 5,
   "metadata": {
    "scrolled": false
   },
   "outputs": [
    {
     "data": {
      "text/plain": [
       "age                int64\n",
       "workclass         object\n",
       "fnlwgt             int64\n",
       "education         object\n",
       "education.num      int64\n",
       "marital.status    object\n",
       "occupation        object\n",
       "relationship      object\n",
       "race              object\n",
       "sex               object\n",
       "capital.gain       int64\n",
       "capital.loss       int64\n",
       "hours.per.week     int64\n",
       "native.country    object\n",
       "income            object\n",
       "dtype: object"
      ]
     },
     "execution_count": 5,
     "metadata": {},
     "output_type": "execute_result"
    }
   ],
   "source": [
    "adult_data.dtypes # <получение типов значений таблицы adult_data>"
   ]
  },
  {
   "cell_type": "code",
   "execution_count": 6,
   "metadata": {
    "scrolled": true
   },
   "outputs": [
    {
     "data": {
      "text/plain": [
       "Index(['age', 'workclass', 'fnlwgt', 'education', 'education.num',\n",
       "       'marital.status', 'occupation', 'relationship', 'race', 'sex',\n",
       "       'capital.gain', 'capital.loss', 'hours.per.week', 'native.country',\n",
       "       'income'],\n",
       "      dtype='object')"
      ]
     },
     "execution_count": 6,
     "metadata": {},
     "output_type": "execute_result"
    }
   ],
   "source": [
    "adult_data.columns # <получение названий столбцов таблицы adult_data>"
   ]
  },
  {
   "cell_type": "markdown",
   "metadata": {},
   "source": [
    "## **Предобработка данных**"
   ]
  },
  {
   "cell_type": "code",
   "execution_count": 7,
   "metadata": {},
   "outputs": [],
   "source": [
    "# переименуем столбцы в adult_data\n",
    "adult_data.set_axis(['age', 'workclass', 'fnlwgt', 'education', 'education_num', 'marital_status', 'occupation', 'relationship', 'race', 'sex', 'capital_gain', 'capital_loss', 'hours_per_week', 'native_country', 'income'],axis = 'columns',inplace = True)"
   ]
  },
  {
   "cell_type": "code",
   "execution_count": 8,
   "metadata": {},
   "outputs": [
    {
     "data": {
      "text/plain": [
       "Index(['age', 'workclass', 'fnlwgt', 'education', 'education_num',\n",
       "       'marital_status', 'occupation', 'relationship', 'race', 'sex',\n",
       "       'capital_gain', 'capital_loss', 'hours_per_week', 'native_country',\n",
       "       'income'],\n",
       "      dtype='object')"
      ]
     },
     "execution_count": 8,
     "metadata": {},
     "output_type": "execute_result"
    }
   ],
   "source": [
    "adult_data.columns # проверяем название столбцов"
   ]
  },
  {
   "cell_type": "code",
   "execution_count": 9,
   "metadata": {},
   "outputs": [],
   "source": [
    "columns = list(adult_data.columns)"
   ]
  },
  {
   "cell_type": "code",
   "execution_count": 10,
   "metadata": {},
   "outputs": [
    {
     "name": "stdout",
     "output_type": "stream",
     "text": [
      "------------------------------------Age-----------------------------------------\n",
      "[17 18 19 20 21 22 23 24 25 26 27 28 29 30 31 32 33 34 35 36 37 38 39 40\n",
      " 41 42 43 44 45 46 47 48 49 50 51 52 53 54 55 56 57 58 59 60 61 62 63 64\n",
      " 65 66 67 68 69 70 71 72 73 74 75 76 77 78 79 80 81 82 83 84 85 86 87 88\n",
      " 90]\n",
      "\n",
      "\n",
      "------------------------------------Workclass-----------------------------------------\n",
      "['?' 'Federal-gov' 'Local-gov' 'Never-worked' 'Private' 'Self-emp-inc'\n",
      " 'Self-emp-not-inc' 'State-gov' 'Without-pay']\n",
      "\n",
      "\n",
      "------------------------------------Fnlwgt-----------------------------------------\n",
      "[  12285   13769   14878 ... 1366120 1455435 1484705]\n",
      "\n",
      "\n",
      "------------------------------------Education-----------------------------------------\n",
      "['10th' '11th' '12th' '1st-4th' '5th-6th' '7th-8th' '9th' 'Assoc-acdm'\n",
      " 'Assoc-voc' 'Bachelors' 'Doctorate' 'HS-grad' 'Masters' 'Preschool'\n",
      " 'Prof-school' 'Some-college']\n",
      "\n",
      "\n",
      "------------------------------------Education_Num-----------------------------------------\n",
      "[ 1  2  3  4  5  6  7  8  9 10 11 12 13 14 15 16]\n",
      "\n",
      "\n",
      "------------------------------------Marital_Status-----------------------------------------\n",
      "['Divorced' 'Married-AF-spouse' 'Married-civ-spouse'\n",
      " 'Married-spouse-absent' 'Never-married' 'Separated' 'Widowed']\n",
      "\n",
      "\n",
      "------------------------------------Occupation-----------------------------------------\n",
      "['?' 'Adm-clerical' 'Armed-Forces' 'Craft-repair' 'Exec-managerial'\n",
      " 'Farming-fishing' 'Handlers-cleaners' 'Machine-op-inspct' 'Other-service'\n",
      " 'Priv-house-serv' 'Prof-specialty' 'Protective-serv' 'Sales'\n",
      " 'Tech-support' 'Transport-moving']\n",
      "\n",
      "\n",
      "------------------------------------Relationship-----------------------------------------\n",
      "['Husband' 'Not-in-family' 'Other-relative' 'Own-child' 'Unmarried' 'Wife']\n",
      "\n",
      "\n",
      "------------------------------------Race-----------------------------------------\n",
      "['Amer-Indian-Eskimo' 'Asian-Pac-Islander' 'Black' 'Other' 'White']\n",
      "\n",
      "\n",
      "------------------------------------Sex-----------------------------------------\n",
      "['Female' 'Male']\n",
      "\n",
      "\n",
      "------------------------------------Capital_Gain-----------------------------------------\n",
      "[    0   114   401   594   914   991  1055  1086  1111  1151  1173  1409\n",
      "  1424  1455  1471  1506  1639  1797  1831  1848  2009  2036  2050  2062\n",
      "  2105  2174  2176  2202  2228  2290  2329  2346  2354  2387  2407  2414\n",
      "  2463  2538  2580  2597  2635  2653  2829  2885  2907  2936  2961  2964\n",
      "  2977  2993  3103  3137  3273  3325  3411  3418  3432  3456  3464  3471\n",
      "  3674  3781  3818  3887  3908  3942  4064  4101  4386  4416  4508  4650\n",
      "  4687  4787  4865  4931  4934  5013  5060  5178  5455  5556  5721  6097\n",
      "  6360  6418  6497  6514  6723  6767  6849  7298  7430  7443  7688  7896\n",
      "  7978  8614  9386  9562 10520 10566 10605 11678 13550 14084 14344 15020\n",
      " 15024 15831 18481 20051 22040 25124 25236 27828 34095 41310 99999]\n",
      "\n",
      "\n",
      "------------------------------------Capital_Loss-----------------------------------------\n",
      "[   0  155  213  323  419  625  653  810  880  974 1092 1138 1258 1340\n",
      " 1380 1408 1411 1485 1504 1539 1564 1573 1579 1590 1594 1602 1617 1628\n",
      " 1648 1651 1668 1669 1672 1719 1721 1726 1735 1740 1741 1755 1762 1816\n",
      " 1825 1844 1848 1876 1887 1902 1944 1974 1977 1980 2001 2002 2042 2051\n",
      " 2057 2080 2129 2149 2163 2174 2179 2201 2205 2206 2231 2238 2246 2258\n",
      " 2267 2282 2339 2352 2377 2392 2415 2444 2457 2467 2472 2489 2547 2559\n",
      " 2603 2754 2824 3004 3683 3770 3900 4356]\n",
      "\n",
      "\n",
      "------------------------------------Hours_Per_Week-----------------------------------------\n",
      "[ 1  2  3  4  5  6  7  8  9 10 11 12 13 14 15 16 17 18 19 20 21 22 23 24\n",
      " 25 26 27 28 29 30 31 32 33 34 35 36 37 38 39 40 41 42 43 44 45 46 47 48\n",
      " 49 50 51 52 53 54 55 56 57 58 59 60 61 62 63 64 65 66 67 68 70 72 73 74\n",
      " 75 76 77 78 80 81 82 84 85 86 87 88 89 90 91 92 94 95 96 97 98 99]\n",
      "\n",
      "\n",
      "------------------------------------Native_Country-----------------------------------------\n",
      "['?' 'Cambodia' 'Canada' 'China' 'Columbia' 'Cuba' 'Dominican-Republic'\n",
      " 'Ecuador' 'El-Salvador' 'England' 'France' 'Germany' 'Greece' 'Guatemala'\n",
      " 'Haiti' 'Holand-Netherlands' 'Honduras' 'Hong' 'Hungary' 'India' 'Iran'\n",
      " 'Ireland' 'Italy' 'Jamaica' 'Japan' 'Laos' 'Mexico' 'Nicaragua'\n",
      " 'Outlying-US(Guam-USVI-etc)' 'Peru' 'Philippines' 'Poland' 'Portugal'\n",
      " 'Puerto-Rico' 'Scotland' 'South' 'Taiwan' 'Thailand' 'Trinadad&Tobago'\n",
      " 'United-States' 'Vietnam' 'Yugoslavia']\n",
      "\n",
      "\n",
      "------------------------------------Income-----------------------------------------\n",
      "['<=50K' '>50K']\n",
      "\n",
      "\n"
     ]
    }
   ],
   "source": [
    "# узнаем уникальные значения столбцов\n",
    "for column in columns:\n",
    "    print(f\"------------------------------------{column.title()}-----------------------------------------\")\n",
    "    data = adult_data.sort_values(by = column)\n",
    "    data_unique = data[column].unique()\n",
    "    print(data_unique)\n",
    "    print('\\n')"
   ]
  },
  {
   "cell_type": "code",
   "execution_count": 11,
   "metadata": {},
   "outputs": [],
   "source": [
    "adult_data = adult_data.replace('?', 'unknown') # заменяем значение '?' на 'unknown'"
   ]
  },
  {
   "cell_type": "code",
   "execution_count": 12,
   "metadata": {},
   "outputs": [
    {
     "name": "stdout",
     "output_type": "stream",
     "text": [
      "? in age: 0\n",
      "? in workclass: 0\n",
      "? in fnlwgt: 0\n",
      "? in education: 0\n",
      "? in education_num: 0\n",
      "? in marital_status: 0\n",
      "? in occupation: 0\n",
      "? in relationship: 0\n",
      "? in race: 0\n",
      "? in sex: 0\n",
      "? in capital_gain: 0\n",
      "? in capital_loss: 0\n",
      "? in hours_per_week: 0\n",
      "? in native_country: 0\n",
      "? in income: 0\n"
     ]
    },
    {
     "name": "stderr",
     "output_type": "stream",
     "text": [
      "C:\\Users\\User\\Anaconda3\\lib\\site-packages\\pandas\\core\\ops\\__init__.py:1115: FutureWarning: elementwise comparison failed; returning scalar instead, but in the future will perform elementwise comparison\n",
      "  result = method(y)\n"
     ]
    }
   ],
   "source": [
    "# проверяем наличие '?' в столбцах\n",
    "for column in columns:\n",
    "    print(f\"? in {column}: {adult_data[(adult_data[column] == '?')].any().sum()}\")"
   ]
  },
  {
   "cell_type": "code",
   "execution_count": 13,
   "metadata": {
    "scrolled": true
   },
   "outputs": [
    {
     "data": {
      "text/plain": [
       "age               0\n",
       "workclass         0\n",
       "fnlwgt            0\n",
       "education         0\n",
       "education_num     0\n",
       "marital_status    0\n",
       "occupation        0\n",
       "relationship      0\n",
       "race              0\n",
       "sex               0\n",
       "capital_gain      0\n",
       "capital_loss      0\n",
       "hours_per_week    0\n",
       "native_country    0\n",
       "income            0\n",
       "dtype: int64"
      ]
     },
     "execution_count": 13,
     "metadata": {},
     "output_type": "execute_result"
    }
   ],
   "source": [
    "adult_data.isnull().sum() # <суммарное количество пропусков, выявленных методом isnull() в таблице adult_data>"
   ]
  },
  {
   "cell_type": "code",
   "execution_count": 14,
   "metadata": {},
   "outputs": [
    {
     "data": {
      "text/plain": [
       "24"
      ]
     },
     "execution_count": 14,
     "metadata": {},
     "output_type": "execute_result"
    }
   ],
   "source": [
    "adult_data.duplicated().sum() # <получение суммарного количества дубликатов в таблице adult_data>"
   ]
  },
  {
   "cell_type": "code",
   "execution_count": 15,
   "metadata": {},
   "outputs": [],
   "source": [
    "adult_data = adult_data.drop_duplicates().reset_index(drop=True) # <удаление всех дубликатов из таблицы adult_data специальным методом>"
   ]
  },
  {
   "cell_type": "code",
   "execution_count": 16,
   "metadata": {},
   "outputs": [
    {
     "data": {
      "text/plain": [
       "0"
      ]
     },
     "execution_count": 16,
     "metadata": {},
     "output_type": "execute_result"
    }
   ],
   "source": [
    "adult_data.duplicated().sum() # <проверка на отсутствие дубликатов>"
   ]
  },
  {
   "cell_type": "code",
   "execution_count": 17,
   "metadata": {},
   "outputs": [],
   "source": [
    "# разделяем категориальные и числовые столбцы\n",
    "\n",
    "categorical_columns = adult_data.dtypes[adult_data.dtypes == 'object']\n",
    "numerical_columns = adult_data.dtypes[adult_data.dtypes == 'int64']"
   ]
  },
  {
   "cell_type": "code",
   "execution_count": 18,
   "metadata": {},
   "outputs": [
    {
     "data": {
      "text/plain": [
       "workclass         object\n",
       "education         object\n",
       "marital_status    object\n",
       "occupation        object\n",
       "relationship      object\n",
       "race              object\n",
       "sex               object\n",
       "native_country    object\n",
       "income            object\n",
       "dtype: object"
      ]
     },
     "execution_count": 18,
     "metadata": {},
     "output_type": "execute_result"
    }
   ],
   "source": [
    "categorical_columns"
   ]
  },
  {
   "cell_type": "code",
   "execution_count": 19,
   "metadata": {},
   "outputs": [
    {
     "data": {
      "text/plain": [
       "age               int64\n",
       "fnlwgt            int64\n",
       "education_num     int64\n",
       "capital_gain      int64\n",
       "capital_loss      int64\n",
       "hours_per_week    int64\n",
       "dtype: object"
      ]
     },
     "execution_count": 19,
     "metadata": {},
     "output_type": "execute_result"
    }
   ],
   "source": [
    "numerical_columns"
   ]
  },
  {
   "cell_type": "code",
   "execution_count": 20,
   "metadata": {},
   "outputs": [],
   "source": [
    "elementary_middle_school = ['1st-4th', '5th-6th', '7th-8th']\n",
    "high_school = ['9th', '10th', '11th', '12th'] \n",
    "\n",
    "married = ['Married-civ-spouse', 'Married-spouse-absent', 'Married-AF-spouse']\n",
    "separated = ['Separated','Divorced']\n",
    "\n",
    "self_employed = ['Self-emp-not-inc','Self-emp-inc']\n",
    "govt_employees = ['Local-gov','State-gov','Federal-gov']\n"
   ]
  },
  {
   "cell_type": "code",
   "execution_count": 21,
   "metadata": {},
   "outputs": [
    {
     "data": {
      "text/html": [
       "<div>\n",
       "<style scoped>\n",
       "    .dataframe tbody tr th:only-of-type {\n",
       "        vertical-align: middle;\n",
       "    }\n",
       "\n",
       "    .dataframe tbody tr th {\n",
       "        vertical-align: top;\n",
       "    }\n",
       "\n",
       "    .dataframe thead th {\n",
       "        text-align: right;\n",
       "    }\n",
       "</style>\n",
       "<table border=\"1\" class=\"dataframe\">\n",
       "  <thead>\n",
       "    <tr style=\"text-align: right;\">\n",
       "      <th></th>\n",
       "      <th>age</th>\n",
       "      <th>fnlwgt</th>\n",
       "      <th>education_num</th>\n",
       "      <th>capital_gain</th>\n",
       "      <th>capital_loss</th>\n",
       "      <th>hours_per_week</th>\n",
       "    </tr>\n",
       "  </thead>\n",
       "  <tbody>\n",
       "    <tr>\n",
       "      <td>count</td>\n",
       "      <td>32537.000000</td>\n",
       "      <td>3.253700e+04</td>\n",
       "      <td>32537.000000</td>\n",
       "      <td>32537.000000</td>\n",
       "      <td>32537.000000</td>\n",
       "      <td>32537.000000</td>\n",
       "    </tr>\n",
       "    <tr>\n",
       "      <td>mean</td>\n",
       "      <td>38.585549</td>\n",
       "      <td>1.897808e+05</td>\n",
       "      <td>10.081815</td>\n",
       "      <td>1078.443741</td>\n",
       "      <td>87.368227</td>\n",
       "      <td>40.440329</td>\n",
       "    </tr>\n",
       "    <tr>\n",
       "      <td>std</td>\n",
       "      <td>13.637984</td>\n",
       "      <td>1.055565e+05</td>\n",
       "      <td>2.571633</td>\n",
       "      <td>7387.957424</td>\n",
       "      <td>403.101833</td>\n",
       "      <td>12.346889</td>\n",
       "    </tr>\n",
       "    <tr>\n",
       "      <td>min</td>\n",
       "      <td>17.000000</td>\n",
       "      <td>1.228500e+04</td>\n",
       "      <td>1.000000</td>\n",
       "      <td>0.000000</td>\n",
       "      <td>0.000000</td>\n",
       "      <td>1.000000</td>\n",
       "    </tr>\n",
       "    <tr>\n",
       "      <td>25%</td>\n",
       "      <td>28.000000</td>\n",
       "      <td>1.178270e+05</td>\n",
       "      <td>9.000000</td>\n",
       "      <td>0.000000</td>\n",
       "      <td>0.000000</td>\n",
       "      <td>40.000000</td>\n",
       "    </tr>\n",
       "    <tr>\n",
       "      <td>50%</td>\n",
       "      <td>37.000000</td>\n",
       "      <td>1.783560e+05</td>\n",
       "      <td>10.000000</td>\n",
       "      <td>0.000000</td>\n",
       "      <td>0.000000</td>\n",
       "      <td>40.000000</td>\n",
       "    </tr>\n",
       "    <tr>\n",
       "      <td>75%</td>\n",
       "      <td>48.000000</td>\n",
       "      <td>2.369930e+05</td>\n",
       "      <td>12.000000</td>\n",
       "      <td>0.000000</td>\n",
       "      <td>0.000000</td>\n",
       "      <td>45.000000</td>\n",
       "    </tr>\n",
       "    <tr>\n",
       "      <td>max</td>\n",
       "      <td>90.000000</td>\n",
       "      <td>1.484705e+06</td>\n",
       "      <td>16.000000</td>\n",
       "      <td>99999.000000</td>\n",
       "      <td>4356.000000</td>\n",
       "      <td>99.000000</td>\n",
       "    </tr>\n",
       "  </tbody>\n",
       "</table>\n",
       "</div>"
      ],
      "text/plain": [
       "                age        fnlwgt  education_num  capital_gain  capital_loss  \\\n",
       "count  32537.000000  3.253700e+04   32537.000000  32537.000000  32537.000000   \n",
       "mean      38.585549  1.897808e+05      10.081815   1078.443741     87.368227   \n",
       "std       13.637984  1.055565e+05       2.571633   7387.957424    403.101833   \n",
       "min       17.000000  1.228500e+04       1.000000      0.000000      0.000000   \n",
       "25%       28.000000  1.178270e+05       9.000000      0.000000      0.000000   \n",
       "50%       37.000000  1.783560e+05      10.000000      0.000000      0.000000   \n",
       "75%       48.000000  2.369930e+05      12.000000      0.000000      0.000000   \n",
       "max       90.000000  1.484705e+06      16.000000  99999.000000   4356.000000   \n",
       "\n",
       "       hours_per_week  \n",
       "count    32537.000000  \n",
       "mean        40.440329  \n",
       "std         12.346889  \n",
       "min          1.000000  \n",
       "25%         40.000000  \n",
       "50%         40.000000  \n",
       "75%         45.000000  \n",
       "max         99.000000  "
      ]
     },
     "execution_count": 21,
     "metadata": {},
     "output_type": "execute_result"
    }
   ],
   "source": [
    "adult_data.describe()"
   ]
  },
  {
   "cell_type": "markdown",
   "metadata": {},
   "source": [
    "## **Исследование и визуализация данных**"
   ]
  },
  {
   "cell_type": "markdown",
   "metadata": {},
   "source": [
    "Исследуем таблицу с распределением категориальных значений в датасете"
   ]
  },
  {
   "cell_type": "code",
   "execution_count": 22,
   "metadata": {},
   "outputs": [
    {
     "name": "stdout",
     "output_type": "stream",
     "text": [
      "--------------------Workclass-------------------------\n",
      "                  total    percent\n",
      "Private           22673  69.683745\n",
      "Self-emp-not-inc   2540   7.806497\n",
      "Local-gov          2093   6.432677\n",
      "unknown            1836   5.642807\n",
      "State-gov          1298   3.989304\n",
      "Self-emp-inc       1116   3.429941\n",
      "Federal-gov         960   2.950487\n",
      "Without-pay          14   0.043028\n",
      "Never-worked          7   0.021514\n",
      "\n",
      "\n",
      "--------------------Education-------------------------\n",
      "              total    percent\n",
      "HS-grad       10494  32.252513\n",
      "Some-college   7282  22.380674\n",
      "Bachelors      5353  16.452039\n",
      "Masters        1722   5.292436\n",
      "Assoc-voc      1382   4.247472\n",
      "11th           1175   3.611273\n",
      "Assoc-acdm     1067   3.279344\n",
      "10th            933   2.867505\n",
      "7th-8th         645   1.982359\n",
      "Prof-school     576   1.770292\n",
      "9th             514   1.579740\n",
      "12th            433   1.330793\n",
      "Doctorate       413   1.269324\n",
      "5th-6th         332   1.020377\n",
      "1st-4th         166   0.510188\n",
      "Preschool        50   0.153671\n",
      "\n",
      "\n",
      "--------------------Marital_Status-------------------------\n",
      "                       total    percent\n",
      "Married-civ-spouse     14970  46.009159\n",
      "Never-married          10667  32.784215\n",
      "Divorced                4441  13.649076\n",
      "Separated               1025   3.150260\n",
      "Widowed                  993   3.051910\n",
      "Married-spouse-absent    418   1.284691\n",
      "Married-AF-spouse         23   0.070689\n",
      "\n",
      "\n",
      "--------------------Occupation-------------------------\n",
      "                   total    percent\n",
      "Prof-specialty      4136  12.711682\n",
      "Craft-repair        4094  12.582598\n",
      "Exec-managerial     4065  12.493469\n",
      "Adm-clerical        3768  11.580662\n",
      "Sales               3650  11.217998\n",
      "Other-service       3291  10.114639\n",
      "Machine-op-inspct   2000   6.146848\n",
      "unknown             1843   5.664321\n",
      "Transport-moving    1597   4.908258\n",
      "Handlers-cleaners   1369   4.207518\n",
      "Farming-fishing      992   3.048837\n",
      "Tech-support         927   2.849064\n",
      "Protective-serv      649   1.994652\n",
      "Priv-house-serv      147   0.451793\n",
      "Armed-Forces           9   0.027661\n",
      "\n",
      "\n",
      "--------------------Relationship-------------------------\n",
      "                total    percent\n",
      "Husband         13187  40.529244\n",
      "Not-in-family    8292  25.484833\n",
      "Own-child        5064  15.563820\n",
      "Unmarried        3445  10.587946\n",
      "Wife             1568   4.819129\n",
      "Other-relative    981   3.015029\n",
      "\n",
      "\n",
      "--------------------Race-------------------------\n",
      "                    total    percent\n",
      "White               27795  85.425823\n",
      "Black                3122   9.595230\n",
      "Asian-Pac-Islander   1038   3.190214\n",
      "Amer-Indian-Eskimo    311   0.955835\n",
      "Other                 271   0.832898\n",
      "\n",
      "\n",
      "--------------------Sex-------------------------\n",
      "        total   percent\n",
      "Male    21775  66.92381\n",
      "Female  10762  33.07619\n",
      "\n",
      "\n",
      "--------------------Native_Country-------------------------\n",
      "                            total    percent\n",
      "United-States               29153  89.599533\n",
      "Mexico                        639   1.963918\n",
      "unknown                       582   1.788733\n",
      "Philippines                   198   0.608538\n",
      "Germany                       137   0.421059\n",
      "Canada                        121   0.371884\n",
      "Puerto-Rico                   114   0.350370\n",
      "El-Salvador                   106   0.325783\n",
      "India                         100   0.307342\n",
      "Cuba                           95   0.291975\n",
      "England                        90   0.276608\n",
      "Jamaica                        81   0.248947\n",
      "South                          80   0.245874\n",
      "China                          75   0.230507\n",
      "Italy                          73   0.224360\n",
      "Dominican-Republic             70   0.215140\n",
      "Vietnam                        67   0.205919\n",
      "Japan                          62   0.190552\n",
      "Guatemala                      62   0.190552\n",
      "Poland                         60   0.184405\n",
      "Columbia                       59   0.181332\n",
      "Taiwan                         51   0.156745\n",
      "Haiti                          44   0.135231\n",
      "Iran                           43   0.132157\n",
      "Portugal                       37   0.113717\n",
      "Nicaragua                      34   0.104496\n",
      "Peru                           31   0.095276\n",
      "Greece                         29   0.089129\n",
      "France                         29   0.089129\n",
      "Ecuador                        28   0.086056\n",
      "Ireland                        24   0.073762\n",
      "Hong                           20   0.061468\n",
      "Cambodia                       19   0.058395\n",
      "Trinadad&Tobago                19   0.058395\n",
      "Thailand                       18   0.055322\n",
      "Laos                           18   0.055322\n",
      "Yugoslavia                     16   0.049175\n",
      "Outlying-US(Guam-USVI-etc)     14   0.043028\n",
      "Hungary                        13   0.039955\n",
      "Honduras                       13   0.039955\n",
      "Scotland                       12   0.036881\n",
      "Holand-Netherlands              1   0.003073\n",
      "\n",
      "\n",
      "--------------------Income-------------------------\n",
      "       total    percent\n",
      "<=50K  24698  75.907428\n",
      ">50K    7839  24.092572\n",
      "\n",
      "\n"
     ]
    }
   ],
   "source": [
    "for column in categorical_columns.index:\n",
    "    print(f'--------------------{column.title()}-------------------------')\n",
    "    total = adult_data[column].value_counts()\n",
    "    percent = adult_data[column].value_counts() / adult_data.shape[0] * 100\n",
    "    data = pd.concat([total, percent],keys = ['total', 'percent'],axis = 1)\n",
    "    print(data)\n",
    "    print('\\n')"
   ]
  },
  {
   "cell_type": "markdown",
   "metadata": {},
   "source": [
    "Рассмотрим распределение численных значений датасета"
   ]
  },
  {
   "cell_type": "code",
   "execution_count": 23,
   "metadata": {},
   "outputs": [
    {
     "data": {
      "image/png": "[encoded data removed]",
      "text/plain": [
       "<Figure size 864x864 with 6 Axes>"
      ]
     },
     "metadata": {
      "needs_background": "light"
     },
     "output_type": "display_data"
    }
   ],
   "source": [
    "adult_data[list(numerical_columns.index)].hist(figsize = (12,12));"
   ]
  },
  {
   "cell_type": "markdown",
   "metadata": {},
   "source": [
    "Из графиков распределения всего датасета можно сделать следующие выводы:\n",
    "- около 30 тыс. людей в исследовании имеет прирост капитала от 0 до 10 тыс.долларов в год;\n",
    "- такое же число людей имеет потерю капитала от 0 до 500 долларов в год;\n",
    "- более 17500 людей работает полный рабочий день;\n",
    "- более 25000 людей имеет ранг обучения (education_num) выше 8-го. "
   ]
  },
  {
   "cell_type": "markdown",
   "metadata": {},
   "source": [
    "Смотрим информацию по людям с заработком больше 50 тыс. долларов или равным и менее 50 тыс.долларов"
   ]
  },
  {
   "cell_type": "code",
   "execution_count": 24,
   "metadata": {},
   "outputs": [],
   "source": [
    "adult_over_50k_dollars = adult_data[adult_data['income'] == '>50K']\n",
    "adult_under_50k_dollars = adult_data[adult_data['income'] == '<=50K']"
   ]
  },
  {
   "cell_type": "code",
   "execution_count": 25,
   "metadata": {},
   "outputs": [
    {
     "data": {
      "text/html": [
       "<div>\n",
       "<style scoped>\n",
       "    .dataframe tbody tr th:only-of-type {\n",
       "        vertical-align: middle;\n",
       "    }\n",
       "\n",
       "    .dataframe tbody tr th {\n",
       "        vertical-align: top;\n",
       "    }\n",
       "\n",
       "    .dataframe thead th {\n",
       "        text-align: right;\n",
       "    }\n",
       "</style>\n",
       "<table border=\"1\" class=\"dataframe\">\n",
       "  <thead>\n",
       "    <tr style=\"text-align: right;\">\n",
       "      <th></th>\n",
       "      <th>age</th>\n",
       "      <th>fnlwgt</th>\n",
       "      <th>education_num</th>\n",
       "      <th>capital_gain</th>\n",
       "      <th>capital_loss</th>\n",
       "      <th>hours_per_week</th>\n",
       "    </tr>\n",
       "  </thead>\n",
       "  <tbody>\n",
       "    <tr>\n",
       "      <td>count</td>\n",
       "      <td>7839.000000</td>\n",
       "      <td>7.839000e+03</td>\n",
       "      <td>7839.000000</td>\n",
       "      <td>7839.000000</td>\n",
       "      <td>7839.000000</td>\n",
       "      <td>7839.000000</td>\n",
       "    </tr>\n",
       "    <tr>\n",
       "      <td>mean</td>\n",
       "      <td>44.250925</td>\n",
       "      <td>1.880005e+05</td>\n",
       "      <td>11.612195</td>\n",
       "      <td>4007.164562</td>\n",
       "      <td>195.051282</td>\n",
       "      <td>45.473402</td>\n",
       "    </tr>\n",
       "    <tr>\n",
       "      <td>std</td>\n",
       "      <td>10.520102</td>\n",
       "      <td>1.025545e+05</td>\n",
       "      <td>2.385181</td>\n",
       "      <td>14572.097223</td>\n",
       "      <td>595.555395</td>\n",
       "      <td>11.014165</td>\n",
       "    </tr>\n",
       "    <tr>\n",
       "      <td>min</td>\n",
       "      <td>19.000000</td>\n",
       "      <td>1.487800e+04</td>\n",
       "      <td>2.000000</td>\n",
       "      <td>0.000000</td>\n",
       "      <td>0.000000</td>\n",
       "      <td>1.000000</td>\n",
       "    </tr>\n",
       "    <tr>\n",
       "      <td>25%</td>\n",
       "      <td>36.000000</td>\n",
       "      <td>1.191000e+05</td>\n",
       "      <td>10.000000</td>\n",
       "      <td>0.000000</td>\n",
       "      <td>0.000000</td>\n",
       "      <td>40.000000</td>\n",
       "    </tr>\n",
       "    <tr>\n",
       "      <td>50%</td>\n",
       "      <td>44.000000</td>\n",
       "      <td>1.760630e+05</td>\n",
       "      <td>12.000000</td>\n",
       "      <td>0.000000</td>\n",
       "      <td>0.000000</td>\n",
       "      <td>40.000000</td>\n",
       "    </tr>\n",
       "    <tr>\n",
       "      <td>75%</td>\n",
       "      <td>51.000000</td>\n",
       "      <td>2.309690e+05</td>\n",
       "      <td>13.000000</td>\n",
       "      <td>0.000000</td>\n",
       "      <td>0.000000</td>\n",
       "      <td>50.000000</td>\n",
       "    </tr>\n",
       "    <tr>\n",
       "      <td>max</td>\n",
       "      <td>90.000000</td>\n",
       "      <td>1.226583e+06</td>\n",
       "      <td>16.000000</td>\n",
       "      <td>99999.000000</td>\n",
       "      <td>3683.000000</td>\n",
       "      <td>99.000000</td>\n",
       "    </tr>\n",
       "  </tbody>\n",
       "</table>\n",
       "</div>"
      ],
      "text/plain": [
       "               age        fnlwgt  education_num  capital_gain  capital_loss  \\\n",
       "count  7839.000000  7.839000e+03    7839.000000   7839.000000   7839.000000   \n",
       "mean     44.250925  1.880005e+05      11.612195   4007.164562    195.051282   \n",
       "std      10.520102  1.025545e+05       2.385181  14572.097223    595.555395   \n",
       "min      19.000000  1.487800e+04       2.000000      0.000000      0.000000   \n",
       "25%      36.000000  1.191000e+05      10.000000      0.000000      0.000000   \n",
       "50%      44.000000  1.760630e+05      12.000000      0.000000      0.000000   \n",
       "75%      51.000000  2.309690e+05      13.000000      0.000000      0.000000   \n",
       "max      90.000000  1.226583e+06      16.000000  99999.000000   3683.000000   \n",
       "\n",
       "       hours_per_week  \n",
       "count     7839.000000  \n",
       "mean        45.473402  \n",
       "std         11.014165  \n",
       "min          1.000000  \n",
       "25%         40.000000  \n",
       "50%         40.000000  \n",
       "75%         50.000000  \n",
       "max         99.000000  "
      ]
     },
     "execution_count": 25,
     "metadata": {},
     "output_type": "execute_result"
    }
   ],
   "source": [
    "adult_over_50k_dollars.describe()"
   ]
  },
  {
   "cell_type": "code",
   "execution_count": 26,
   "metadata": {},
   "outputs": [
    {
     "data": {
      "text/html": [
       "<div>\n",
       "<style scoped>\n",
       "    .dataframe tbody tr th:only-of-type {\n",
       "        vertical-align: middle;\n",
       "    }\n",
       "\n",
       "    .dataframe tbody tr th {\n",
       "        vertical-align: top;\n",
       "    }\n",
       "\n",
       "    .dataframe thead th {\n",
       "        text-align: right;\n",
       "    }\n",
       "</style>\n",
       "<table border=\"1\" class=\"dataframe\">\n",
       "  <thead>\n",
       "    <tr style=\"text-align: right;\">\n",
       "      <th></th>\n",
       "      <th>age</th>\n",
       "      <th>fnlwgt</th>\n",
       "      <th>education_num</th>\n",
       "      <th>capital_gain</th>\n",
       "      <th>capital_loss</th>\n",
       "      <th>hours_per_week</th>\n",
       "    </tr>\n",
       "  </thead>\n",
       "  <tbody>\n",
       "    <tr>\n",
       "      <td>count</td>\n",
       "      <td>24698.000000</td>\n",
       "      <td>2.469800e+04</td>\n",
       "      <td>24698.000000</td>\n",
       "      <td>24698.000000</td>\n",
       "      <td>24698.000000</td>\n",
       "      <td>24698.000000</td>\n",
       "    </tr>\n",
       "    <tr>\n",
       "      <td>mean</td>\n",
       "      <td>36.787392</td>\n",
       "      <td>1.903459e+05</td>\n",
       "      <td>9.596081</td>\n",
       "      <td>148.884970</td>\n",
       "      <td>53.190258</td>\n",
       "      <td>38.842862</td>\n",
       "    </tr>\n",
       "    <tr>\n",
       "      <td>std</td>\n",
       "      <td>14.017335</td>\n",
       "      <td>1.064874e+05</td>\n",
       "      <td>2.434654</td>\n",
       "      <td>963.557955</td>\n",
       "      <td>310.890099</td>\n",
       "      <td>12.318286</td>\n",
       "    </tr>\n",
       "    <tr>\n",
       "      <td>min</td>\n",
       "      <td>17.000000</td>\n",
       "      <td>1.228500e+04</td>\n",
       "      <td>1.000000</td>\n",
       "      <td>0.000000</td>\n",
       "      <td>0.000000</td>\n",
       "      <td>1.000000</td>\n",
       "    </tr>\n",
       "    <tr>\n",
       "      <td>25%</td>\n",
       "      <td>25.000000</td>\n",
       "      <td>1.176060e+05</td>\n",
       "      <td>9.000000</td>\n",
       "      <td>0.000000</td>\n",
       "      <td>0.000000</td>\n",
       "      <td>35.000000</td>\n",
       "    </tr>\n",
       "    <tr>\n",
       "      <td>50%</td>\n",
       "      <td>34.000000</td>\n",
       "      <td>1.794650e+05</td>\n",
       "      <td>9.000000</td>\n",
       "      <td>0.000000</td>\n",
       "      <td>0.000000</td>\n",
       "      <td>40.000000</td>\n",
       "    </tr>\n",
       "    <tr>\n",
       "      <td>75%</td>\n",
       "      <td>46.000000</td>\n",
       "      <td>2.389682e+05</td>\n",
       "      <td>10.000000</td>\n",
       "      <td>0.000000</td>\n",
       "      <td>0.000000</td>\n",
       "      <td>40.000000</td>\n",
       "    </tr>\n",
       "    <tr>\n",
       "      <td>max</td>\n",
       "      <td>90.000000</td>\n",
       "      <td>1.484705e+06</td>\n",
       "      <td>16.000000</td>\n",
       "      <td>41310.000000</td>\n",
       "      <td>4356.000000</td>\n",
       "      <td>99.000000</td>\n",
       "    </tr>\n",
       "  </tbody>\n",
       "</table>\n",
       "</div>"
      ],
      "text/plain": [
       "                age        fnlwgt  education_num  capital_gain  capital_loss  \\\n",
       "count  24698.000000  2.469800e+04   24698.000000  24698.000000  24698.000000   \n",
       "mean      36.787392  1.903459e+05       9.596081    148.884970     53.190258   \n",
       "std       14.017335  1.064874e+05       2.434654    963.557955    310.890099   \n",
       "min       17.000000  1.228500e+04       1.000000      0.000000      0.000000   \n",
       "25%       25.000000  1.176060e+05       9.000000      0.000000      0.000000   \n",
       "50%       34.000000  1.794650e+05       9.000000      0.000000      0.000000   \n",
       "75%       46.000000  2.389682e+05      10.000000      0.000000      0.000000   \n",
       "max       90.000000  1.484705e+06      16.000000  41310.000000   4356.000000   \n",
       "\n",
       "       hours_per_week  \n",
       "count    24698.000000  \n",
       "mean        38.842862  \n",
       "std         12.318286  \n",
       "min          1.000000  \n",
       "25%         35.000000  \n",
       "50%         40.000000  \n",
       "75%         40.000000  \n",
       "max         99.000000  "
      ]
     },
     "execution_count": 26,
     "metadata": {},
     "output_type": "execute_result"
    }
   ],
   "source": [
    "adult_under_50k_dollars.describe()"
   ]
  },
  {
   "cell_type": "markdown",
   "metadata": {},
   "source": [
    "Посмотрим на распределение количественных показателей людей зарабатывающих более 50 тыс.долларов"
   ]
  },
  {
   "cell_type": "code",
   "execution_count": 27,
   "metadata": {},
   "outputs": [
    {
     "data": {
      "image/png": "[encoded data removed]",
      "text/plain": [
       "<Figure size 864x864 with 6 Axes>"
      ]
     },
     "metadata": {
      "needs_background": "light"
     },
     "output_type": "display_data"
    }
   ],
   "source": [
    "adult_over_50k_dollars[list(numerical_columns.index)].hist(figsize = (12,12));"
   ]
  },
  {
   "cell_type": "markdown",
   "metadata": {},
   "source": [
    "Из этих графиков показателей людей зарабатывающих более 50 тыс.долларов можно сделать следующие выводы:\n",
    "- около 7 тыс. людей имеет прирост капитала от 0 до 10 тыс.долларов в год;\n",
    "- до 250 людей имеют имеет прирост капитала от 90000 до 100000 тыс.долларов в год (существенный выброс);\n",
    "- приблизительно 3,5 тыс. людей работает от 30 до 40 часов в неделю и почти столько же имеют переработки;\n",
    "- около 8 тыс. людей имеет ранг обучения выше 9-го."
   ]
  },
  {
   "cell_type": "code",
   "execution_count": 28,
   "metadata": {},
   "outputs": [
    {
     "data": {
      "image/png": "[encoded data removed]",
      "text/plain": [
       "<Figure size 864x864 with 6 Axes>"
      ]
     },
     "metadata": {
      "needs_background": "light"
     },
     "output_type": "display_data"
    }
   ],
   "source": [
    "adult_under_50k_dollars[list(numerical_columns.index)].hist(figsize = (12,12));"
   ]
  },
  {
   "cell_type": "markdown",
   "metadata": {},
   "source": [
    "Из этих графиков показателей людей зарабатывающих 50 тыс.долларов и менее можно сделать следующие выводы:\n",
    "- около 24 тыс. людей имеет прирост капитала от 0 до 5 тыс.долларов в год;\n",
    "- приблизительно 23 тыс. людей имеет потерю капитала от 0 до 500 долларов в год;\n",
    "- немного более 14 тыс. людей работает от 30 до 40 часов в неделю;\n",
    "- около 21 тыс. людей имеет ранг обучения выше 8-го."
   ]
  },
  {
   "cell_type": "code",
   "execution_count": 29,
   "metadata": {},
   "outputs": [],
   "source": [
    "adult_with_zero_capital_gain = adult_data[adult_data['capital_gain'] == 0]\n",
    "adult_with_zero_capital_loss = adult_data[adult_data['capital_loss'] == 0]"
   ]
  },
  {
   "cell_type": "code",
   "execution_count": 30,
   "metadata": {},
   "outputs": [
    {
     "data": {
      "text/html": [
       "<div>\n",
       "<style scoped>\n",
       "    .dataframe tbody tr th:only-of-type {\n",
       "        vertical-align: middle;\n",
       "    }\n",
       "\n",
       "    .dataframe tbody tr th {\n",
       "        vertical-align: top;\n",
       "    }\n",
       "\n",
       "    .dataframe thead th {\n",
       "        text-align: right;\n",
       "    }\n",
       "</style>\n",
       "<table border=\"1\" class=\"dataframe\">\n",
       "  <thead>\n",
       "    <tr style=\"text-align: right;\">\n",
       "      <th></th>\n",
       "      <th>age</th>\n",
       "      <th>fnlwgt</th>\n",
       "      <th>education_num</th>\n",
       "      <th>capital_gain</th>\n",
       "      <th>capital_loss</th>\n",
       "      <th>hours_per_week</th>\n",
       "    </tr>\n",
       "  </thead>\n",
       "  <tbody>\n",
       "    <tr>\n",
       "      <td>count</td>\n",
       "      <td>29825.000000</td>\n",
       "      <td>2.982500e+04</td>\n",
       "      <td>29825.000000</td>\n",
       "      <td>29825.0</td>\n",
       "      <td>29825.000000</td>\n",
       "      <td>29825.000000</td>\n",
       "    </tr>\n",
       "    <tr>\n",
       "      <td>mean</td>\n",
       "      <td>38.091735</td>\n",
       "      <td>1.899355e+05</td>\n",
       "      <td>9.992322</td>\n",
       "      <td>0.0</td>\n",
       "      <td>95.312657</td>\n",
       "      <td>40.161174</td>\n",
       "    </tr>\n",
       "    <tr>\n",
       "      <td>std</td>\n",
       "      <td>13.563900</td>\n",
       "      <td>1.057527e+05</td>\n",
       "      <td>2.544370</td>\n",
       "      <td>0.0</td>\n",
       "      <td>420.130619</td>\n",
       "      <td>12.321793</td>\n",
       "    </tr>\n",
       "    <tr>\n",
       "      <td>min</td>\n",
       "      <td>17.000000</td>\n",
       "      <td>1.228500e+04</td>\n",
       "      <td>1.000000</td>\n",
       "      <td>0.0</td>\n",
       "      <td>0.000000</td>\n",
       "      <td>1.000000</td>\n",
       "    </tr>\n",
       "    <tr>\n",
       "      <td>25%</td>\n",
       "      <td>27.000000</td>\n",
       "      <td>1.177980e+05</td>\n",
       "      <td>9.000000</td>\n",
       "      <td>0.0</td>\n",
       "      <td>0.000000</td>\n",
       "      <td>40.000000</td>\n",
       "    </tr>\n",
       "    <tr>\n",
       "      <td>50%</td>\n",
       "      <td>36.000000</td>\n",
       "      <td>1.786440e+05</td>\n",
       "      <td>10.000000</td>\n",
       "      <td>0.0</td>\n",
       "      <td>0.000000</td>\n",
       "      <td>40.000000</td>\n",
       "    </tr>\n",
       "    <tr>\n",
       "      <td>75%</td>\n",
       "      <td>47.000000</td>\n",
       "      <td>2.370510e+05</td>\n",
       "      <td>12.000000</td>\n",
       "      <td>0.0</td>\n",
       "      <td>0.000000</td>\n",
       "      <td>45.000000</td>\n",
       "    </tr>\n",
       "    <tr>\n",
       "      <td>max</td>\n",
       "      <td>90.000000</td>\n",
       "      <td>1.484705e+06</td>\n",
       "      <td>16.000000</td>\n",
       "      <td>0.0</td>\n",
       "      <td>4356.000000</td>\n",
       "      <td>99.000000</td>\n",
       "    </tr>\n",
       "  </tbody>\n",
       "</table>\n",
       "</div>"
      ],
      "text/plain": [
       "                age        fnlwgt  education_num  capital_gain  capital_loss  \\\n",
       "count  29825.000000  2.982500e+04   29825.000000       29825.0  29825.000000   \n",
       "mean      38.091735  1.899355e+05       9.992322           0.0     95.312657   \n",
       "std       13.563900  1.057527e+05       2.544370           0.0    420.130619   \n",
       "min       17.000000  1.228500e+04       1.000000           0.0      0.000000   \n",
       "25%       27.000000  1.177980e+05       9.000000           0.0      0.000000   \n",
       "50%       36.000000  1.786440e+05      10.000000           0.0      0.000000   \n",
       "75%       47.000000  2.370510e+05      12.000000           0.0      0.000000   \n",
       "max       90.000000  1.484705e+06      16.000000           0.0   4356.000000   \n",
       "\n",
       "       hours_per_week  \n",
       "count    29825.000000  \n",
       "mean        40.161174  \n",
       "std         12.321793  \n",
       "min          1.000000  \n",
       "25%         40.000000  \n",
       "50%         40.000000  \n",
       "75%         45.000000  \n",
       "max         99.000000  "
      ]
     },
     "execution_count": 30,
     "metadata": {},
     "output_type": "execute_result"
    }
   ],
   "source": [
    "adult_with_zero_capital_gain.describe()"
   ]
  },
  {
   "cell_type": "code",
   "execution_count": 31,
   "metadata": {},
   "outputs": [
    {
     "data": {
      "text/html": [
       "<div>\n",
       "<style scoped>\n",
       "    .dataframe tbody tr th:only-of-type {\n",
       "        vertical-align: middle;\n",
       "    }\n",
       "\n",
       "    .dataframe tbody tr th {\n",
       "        vertical-align: top;\n",
       "    }\n",
       "\n",
       "    .dataframe thead th {\n",
       "        text-align: right;\n",
       "    }\n",
       "</style>\n",
       "<table border=\"1\" class=\"dataframe\">\n",
       "  <thead>\n",
       "    <tr style=\"text-align: right;\">\n",
       "      <th></th>\n",
       "      <th>age</th>\n",
       "      <th>fnlwgt</th>\n",
       "      <th>education_num</th>\n",
       "      <th>capital_gain</th>\n",
       "      <th>capital_loss</th>\n",
       "      <th>hours_per_week</th>\n",
       "    </tr>\n",
       "  </thead>\n",
       "  <tbody>\n",
       "    <tr>\n",
       "      <td>count</td>\n",
       "      <td>31018.000000</td>\n",
       "      <td>3.101800e+04</td>\n",
       "      <td>31018.000000</td>\n",
       "      <td>31018.000000</td>\n",
       "      <td>31018.0</td>\n",
       "      <td>31018.000000</td>\n",
       "    </tr>\n",
       "    <tr>\n",
       "      <td>mean</td>\n",
       "      <td>38.433136</td>\n",
       "      <td>1.899908e+05</td>\n",
       "      <td>10.038365</td>\n",
       "      <td>1131.256819</td>\n",
       "      <td>0.0</td>\n",
       "      <td>40.302598</td>\n",
       "    </tr>\n",
       "    <tr>\n",
       "      <td>std</td>\n",
       "      <td>13.667636</td>\n",
       "      <td>1.059268e+05</td>\n",
       "      <td>2.557930</td>\n",
       "      <td>7562.751866</td>\n",
       "      <td>0.0</td>\n",
       "      <td>12.335484</td>\n",
       "    </tr>\n",
       "    <tr>\n",
       "      <td>min</td>\n",
       "      <td>17.000000</td>\n",
       "      <td>1.228500e+04</td>\n",
       "      <td>1.000000</td>\n",
       "      <td>0.000000</td>\n",
       "      <td>0.0</td>\n",
       "      <td>1.000000</td>\n",
       "    </tr>\n",
       "    <tr>\n",
       "      <td>25%</td>\n",
       "      <td>27.000000</td>\n",
       "      <td>1.177890e+05</td>\n",
       "      <td>9.000000</td>\n",
       "      <td>0.000000</td>\n",
       "      <td>0.0</td>\n",
       "      <td>40.000000</td>\n",
       "    </tr>\n",
       "    <tr>\n",
       "      <td>50%</td>\n",
       "      <td>37.000000</td>\n",
       "      <td>1.785510e+05</td>\n",
       "      <td>10.000000</td>\n",
       "      <td>0.000000</td>\n",
       "      <td>0.0</td>\n",
       "      <td>40.000000</td>\n",
       "    </tr>\n",
       "    <tr>\n",
       "      <td>75%</td>\n",
       "      <td>47.000000</td>\n",
       "      <td>2.374205e+05</td>\n",
       "      <td>12.000000</td>\n",
       "      <td>0.000000</td>\n",
       "      <td>0.0</td>\n",
       "      <td>45.000000</td>\n",
       "    </tr>\n",
       "    <tr>\n",
       "      <td>max</td>\n",
       "      <td>90.000000</td>\n",
       "      <td>1.484705e+06</td>\n",
       "      <td>16.000000</td>\n",
       "      <td>99999.000000</td>\n",
       "      <td>0.0</td>\n",
       "      <td>99.000000</td>\n",
       "    </tr>\n",
       "  </tbody>\n",
       "</table>\n",
       "</div>"
      ],
      "text/plain": [
       "                age        fnlwgt  education_num  capital_gain  capital_loss  \\\n",
       "count  31018.000000  3.101800e+04   31018.000000  31018.000000       31018.0   \n",
       "mean      38.433136  1.899908e+05      10.038365   1131.256819           0.0   \n",
       "std       13.667636  1.059268e+05       2.557930   7562.751866           0.0   \n",
       "min       17.000000  1.228500e+04       1.000000      0.000000           0.0   \n",
       "25%       27.000000  1.177890e+05       9.000000      0.000000           0.0   \n",
       "50%       37.000000  1.785510e+05      10.000000      0.000000           0.0   \n",
       "75%       47.000000  2.374205e+05      12.000000      0.000000           0.0   \n",
       "max       90.000000  1.484705e+06      16.000000  99999.000000           0.0   \n",
       "\n",
       "       hours_per_week  \n",
       "count    31018.000000  \n",
       "mean        40.302598  \n",
       "std         12.335484  \n",
       "min          1.000000  \n",
       "25%         40.000000  \n",
       "50%         40.000000  \n",
       "75%         45.000000  \n",
       "max         99.000000  "
      ]
     },
     "execution_count": 31,
     "metadata": {},
     "output_type": "execute_result"
    }
   ],
   "source": [
    "adult_with_zero_capital_loss.describe()"
   ]
  },
  {
   "cell_type": "code",
   "execution_count": 32,
   "metadata": {},
   "outputs": [
    {
     "data": {
      "image/png": "[encoded data removed]",
      "text/plain": [
       "<Figure size 864x864 with 6 Axes>"
      ]
     },
     "metadata": {
      "needs_background": "light"
     },
     "output_type": "display_data"
    }
   ],
   "source": [
    "adult_with_zero_capital_gain[list(numerical_columns.index)].hist(figsize = (12,12));"
   ]
  },
  {
   "cell_type": "code",
   "execution_count": 33,
   "metadata": {},
   "outputs": [
    {
     "data": {
      "image/png": "[encoded data removed]",
      "text/plain": [
       "<Figure size 864x864 with 6 Axes>"
      ]
     },
     "metadata": {
      "needs_background": "light"
     },
     "output_type": "display_data"
    }
   ],
   "source": [
    "adult_with_zero_capital_loss[list(numerical_columns.index)].hist(figsize = (12,12));"
   ]
  },
  {
   "cell_type": "code",
   "execution_count": 34,
   "metadata": {},
   "outputs": [],
   "source": [
    "adult_cap_gain_greater_0_and_over_50k = adult_over_50k_dollars[adult_over_50k_dollars['capital_gain'] > 0]\n",
    "adult_cap_loss_greater_0_and_over_50k = adult_over_50k_dollars[adult_over_50k_dollars['capital_loss'] > 0]"
   ]
  },
  {
   "cell_type": "code",
   "execution_count": 35,
   "metadata": {},
   "outputs": [
    {
     "data": {
      "text/html": [
       "<div>\n",
       "<style scoped>\n",
       "    .dataframe tbody tr th:only-of-type {\n",
       "        vertical-align: middle;\n",
       "    }\n",
       "\n",
       "    .dataframe tbody tr th {\n",
       "        vertical-align: top;\n",
       "    }\n",
       "\n",
       "    .dataframe thead th {\n",
       "        text-align: right;\n",
       "    }\n",
       "</style>\n",
       "<table border=\"1\" class=\"dataframe\">\n",
       "  <thead>\n",
       "    <tr style=\"text-align: right;\">\n",
       "      <th></th>\n",
       "      <th>age</th>\n",
       "      <th>fnlwgt</th>\n",
       "      <th>education_num</th>\n",
       "      <th>capital_gain</th>\n",
       "      <th>capital_loss</th>\n",
       "      <th>hours_per_week</th>\n",
       "    </tr>\n",
       "  </thead>\n",
       "  <tbody>\n",
       "    <tr>\n",
       "      <td>count</td>\n",
       "      <td>1677.000000</td>\n",
       "      <td>1.677000e+03</td>\n",
       "      <td>1677.000000</td>\n",
       "      <td>1677.000000</td>\n",
       "      <td>1677.0</td>\n",
       "      <td>1677.000000</td>\n",
       "    </tr>\n",
       "    <tr>\n",
       "      <td>mean</td>\n",
       "      <td>45.412642</td>\n",
       "      <td>1.885667e+05</td>\n",
       "      <td>11.899821</td>\n",
       "      <td>18731.164580</td>\n",
       "      <td>0.0</td>\n",
       "      <td>45.822302</td>\n",
       "    </tr>\n",
       "    <tr>\n",
       "      <td>std</td>\n",
       "      <td>11.199281</td>\n",
       "      <td>1.028652e+05</td>\n",
       "      <td>2.385213</td>\n",
       "      <td>26778.676066</td>\n",
       "      <td>0.0</td>\n",
       "      <td>10.965749</td>\n",
       "    </tr>\n",
       "    <tr>\n",
       "      <td>min</td>\n",
       "      <td>19.000000</td>\n",
       "      <td>1.930200e+04</td>\n",
       "      <td>2.000000</td>\n",
       "      <td>3103.000000</td>\n",
       "      <td>0.0</td>\n",
       "      <td>2.000000</td>\n",
       "    </tr>\n",
       "    <tr>\n",
       "      <td>25%</td>\n",
       "      <td>37.000000</td>\n",
       "      <td>1.193590e+05</td>\n",
       "      <td>10.000000</td>\n",
       "      <td>7298.000000</td>\n",
       "      <td>0.0</td>\n",
       "      <td>40.000000</td>\n",
       "    </tr>\n",
       "    <tr>\n",
       "      <td>50%</td>\n",
       "      <td>44.000000</td>\n",
       "      <td>1.750710e+05</td>\n",
       "      <td>13.000000</td>\n",
       "      <td>7896.000000</td>\n",
       "      <td>0.0</td>\n",
       "      <td>44.000000</td>\n",
       "    </tr>\n",
       "    <tr>\n",
       "      <td>75%</td>\n",
       "      <td>52.000000</td>\n",
       "      <td>2.342860e+05</td>\n",
       "      <td>14.000000</td>\n",
       "      <td>15024.000000</td>\n",
       "      <td>0.0</td>\n",
       "      <td>50.000000</td>\n",
       "    </tr>\n",
       "    <tr>\n",
       "      <td>max</td>\n",
       "      <td>90.000000</td>\n",
       "      <td>1.033222e+06</td>\n",
       "      <td>16.000000</td>\n",
       "      <td>99999.000000</td>\n",
       "      <td>0.0</td>\n",
       "      <td>99.000000</td>\n",
       "    </tr>\n",
       "  </tbody>\n",
       "</table>\n",
       "</div>"
      ],
      "text/plain": [
       "               age        fnlwgt  education_num  capital_gain  capital_loss  \\\n",
       "count  1677.000000  1.677000e+03    1677.000000   1677.000000        1677.0   \n",
       "mean     45.412642  1.885667e+05      11.899821  18731.164580           0.0   \n",
       "std      11.199281  1.028652e+05       2.385213  26778.676066           0.0   \n",
       "min      19.000000  1.930200e+04       2.000000   3103.000000           0.0   \n",
       "25%      37.000000  1.193590e+05      10.000000   7298.000000           0.0   \n",
       "50%      44.000000  1.750710e+05      13.000000   7896.000000           0.0   \n",
       "75%      52.000000  2.342860e+05      14.000000  15024.000000           0.0   \n",
       "max      90.000000  1.033222e+06      16.000000  99999.000000           0.0   \n",
       "\n",
       "       hours_per_week  \n",
       "count     1677.000000  \n",
       "mean        45.822302  \n",
       "std         10.965749  \n",
       "min          2.000000  \n",
       "25%         40.000000  \n",
       "50%         44.000000  \n",
       "75%         50.000000  \n",
       "max         99.000000  "
      ]
     },
     "execution_count": 35,
     "metadata": {},
     "output_type": "execute_result"
    }
   ],
   "source": [
    "adult_cap_gain_greater_0_and_over_50k.describe()"
   ]
  },
  {
   "cell_type": "code",
   "execution_count": 36,
   "metadata": {},
   "outputs": [
    {
     "data": {
      "text/html": [
       "<div>\n",
       "<style scoped>\n",
       "    .dataframe tbody tr th:only-of-type {\n",
       "        vertical-align: middle;\n",
       "    }\n",
       "\n",
       "    .dataframe tbody tr th {\n",
       "        vertical-align: top;\n",
       "    }\n",
       "\n",
       "    .dataframe thead th {\n",
       "        text-align: right;\n",
       "    }\n",
       "</style>\n",
       "<table border=\"1\" class=\"dataframe\">\n",
       "  <thead>\n",
       "    <tr style=\"text-align: right;\">\n",
       "      <th></th>\n",
       "      <th>age</th>\n",
       "      <th>fnlwgt</th>\n",
       "      <th>education_num</th>\n",
       "      <th>capital_gain</th>\n",
       "      <th>capital_loss</th>\n",
       "      <th>hours_per_week</th>\n",
       "    </tr>\n",
       "  </thead>\n",
       "  <tbody>\n",
       "    <tr>\n",
       "      <td>count</td>\n",
       "      <td>773.000000</td>\n",
       "      <td>773.000000</td>\n",
       "      <td>773.000000</td>\n",
       "      <td>773.0</td>\n",
       "      <td>773.000000</td>\n",
       "      <td>773.000000</td>\n",
       "    </tr>\n",
       "    <tr>\n",
       "      <td>mean</td>\n",
       "      <td>44.510996</td>\n",
       "      <td>187760.172057</td>\n",
       "      <td>12.006468</td>\n",
       "      <td>0.0</td>\n",
       "      <td>1978.016818</td>\n",
       "      <td>46.360931</td>\n",
       "    </tr>\n",
       "    <tr>\n",
       "      <td>std</td>\n",
       "      <td>10.493469</td>\n",
       "      <td>95215.853028</td>\n",
       "      <td>2.446571</td>\n",
       "      <td>0.0</td>\n",
       "      <td>264.143642</td>\n",
       "      <td>11.683338</td>\n",
       "    </tr>\n",
       "    <tr>\n",
       "      <td>min</td>\n",
       "      <td>22.000000</td>\n",
       "      <td>20953.000000</td>\n",
       "      <td>3.000000</td>\n",
       "      <td>0.0</td>\n",
       "      <td>653.000000</td>\n",
       "      <td>6.000000</td>\n",
       "    </tr>\n",
       "    <tr>\n",
       "      <td>25%</td>\n",
       "      <td>37.000000</td>\n",
       "      <td>122307.000000</td>\n",
       "      <td>10.000000</td>\n",
       "      <td>0.0</td>\n",
       "      <td>1887.000000</td>\n",
       "      <td>40.000000</td>\n",
       "    </tr>\n",
       "    <tr>\n",
       "      <td>50%</td>\n",
       "      <td>43.000000</td>\n",
       "      <td>175109.000000</td>\n",
       "      <td>13.000000</td>\n",
       "      <td>0.0</td>\n",
       "      <td>1902.000000</td>\n",
       "      <td>45.000000</td>\n",
       "    </tr>\n",
       "    <tr>\n",
       "      <td>75%</td>\n",
       "      <td>51.000000</td>\n",
       "      <td>234901.000000</td>\n",
       "      <td>14.000000</td>\n",
       "      <td>0.0</td>\n",
       "      <td>1977.000000</td>\n",
       "      <td>50.000000</td>\n",
       "    </tr>\n",
       "    <tr>\n",
       "      <td>max</td>\n",
       "      <td>83.000000</td>\n",
       "      <td>608184.000000</td>\n",
       "      <td>16.000000</td>\n",
       "      <td>0.0</td>\n",
       "      <td>3683.000000</td>\n",
       "      <td>99.000000</td>\n",
       "    </tr>\n",
       "  </tbody>\n",
       "</table>\n",
       "</div>"
      ],
      "text/plain": [
       "              age         fnlwgt  education_num  capital_gain  capital_loss  \\\n",
       "count  773.000000     773.000000     773.000000         773.0    773.000000   \n",
       "mean    44.510996  187760.172057      12.006468           0.0   1978.016818   \n",
       "std     10.493469   95215.853028       2.446571           0.0    264.143642   \n",
       "min     22.000000   20953.000000       3.000000           0.0    653.000000   \n",
       "25%     37.000000  122307.000000      10.000000           0.0   1887.000000   \n",
       "50%     43.000000  175109.000000      13.000000           0.0   1902.000000   \n",
       "75%     51.000000  234901.000000      14.000000           0.0   1977.000000   \n",
       "max     83.000000  608184.000000      16.000000           0.0   3683.000000   \n",
       "\n",
       "       hours_per_week  \n",
       "count      773.000000  \n",
       "mean        46.360931  \n",
       "std         11.683338  \n",
       "min          6.000000  \n",
       "25%         40.000000  \n",
       "50%         45.000000  \n",
       "75%         50.000000  \n",
       "max         99.000000  "
      ]
     },
     "execution_count": 36,
     "metadata": {},
     "output_type": "execute_result"
    }
   ],
   "source": [
    "adult_cap_loss_greater_0_and_over_50k.describe()"
   ]
  },
  {
   "cell_type": "code",
   "execution_count": 37,
   "metadata": {},
   "outputs": [
    {
     "data": {
      "image/png": "[encoded data removed]",
      "text/plain": [
       "<Figure size 864x864 with 6 Axes>"
      ]
     },
     "metadata": {
      "needs_background": "light"
     },
     "output_type": "display_data"
    }
   ],
   "source": [
    "adult_cap_gain_greater_0_and_over_50k[list(numerical_columns.index)].hist(figsize = (12,12));"
   ]
  },
  {
   "cell_type": "code",
   "execution_count": 38,
   "metadata": {},
   "outputs": [
    {
     "data": {
      "image/png": "[encoded data removed]",
      "text/plain": [
       "<Figure size 864x864 with 6 Axes>"
      ]
     },
     "metadata": {
      "needs_background": "light"
     },
     "output_type": "display_data"
    }
   ],
   "source": [
    "adult_cap_loss_greater_0_and_over_50k[list(numerical_columns.index)].hist(figsize = (12,12));"
   ]
  },
  {
   "cell_type": "code",
   "execution_count": 39,
   "metadata": {},
   "outputs": [],
   "source": [
    "adult_cap_gain_greater_0_and_under_50k = adult_under_50k_dollars[adult_under_50k_dollars['capital_gain'] > 0]\n",
    "adult_cap_loss_greater_0_and_under_50k = adult_under_50k_dollars[adult_under_50k_dollars['capital_loss'] > 0]"
   ]
  },
  {
   "cell_type": "code",
   "execution_count": 40,
   "metadata": {},
   "outputs": [
    {
     "data": {
      "text/html": [
       "<div>\n",
       "<style scoped>\n",
       "    .dataframe tbody tr th:only-of-type {\n",
       "        vertical-align: middle;\n",
       "    }\n",
       "\n",
       "    .dataframe tbody tr th {\n",
       "        vertical-align: top;\n",
       "    }\n",
       "\n",
       "    .dataframe thead th {\n",
       "        text-align: right;\n",
       "    }\n",
       "</style>\n",
       "<table border=\"1\" class=\"dataframe\">\n",
       "  <thead>\n",
       "    <tr style=\"text-align: right;\">\n",
       "      <th></th>\n",
       "      <th>age</th>\n",
       "      <th>fnlwgt</th>\n",
       "      <th>education_num</th>\n",
       "      <th>capital_gain</th>\n",
       "      <th>capital_loss</th>\n",
       "      <th>hours_per_week</th>\n",
       "    </tr>\n",
       "  </thead>\n",
       "  <tbody>\n",
       "    <tr>\n",
       "      <td>count</td>\n",
       "      <td>1035.000000</td>\n",
       "      <td>1035.000000</td>\n",
       "      <td>1035.000000</td>\n",
       "      <td>1035.000000</td>\n",
       "      <td>1035.0</td>\n",
       "      <td>1035.000000</td>\n",
       "    </tr>\n",
       "    <tr>\n",
       "      <td>mean</td>\n",
       "      <td>41.753623</td>\n",
       "      <td>187292.802899</td>\n",
       "      <td>9.714976</td>\n",
       "      <td>3552.812560</td>\n",
       "      <td>0.0</td>\n",
       "      <td>39.764251</td>\n",
       "    </tr>\n",
       "    <tr>\n",
       "      <td>std</td>\n",
       "      <td>15.810904</td>\n",
       "      <td>104247.362954</td>\n",
       "      <td>2.533894</td>\n",
       "      <td>3173.419287</td>\n",
       "      <td>0.0</td>\n",
       "      <td>13.156860</td>\n",
       "    </tr>\n",
       "    <tr>\n",
       "      <td>min</td>\n",
       "      <td>17.000000</td>\n",
       "      <td>19302.000000</td>\n",
       "      <td>1.000000</td>\n",
       "      <td>114.000000</td>\n",
       "      <td>0.0</td>\n",
       "      <td>1.000000</td>\n",
       "    </tr>\n",
       "    <tr>\n",
       "      <td>25%</td>\n",
       "      <td>29.000000</td>\n",
       "      <td>115837.500000</td>\n",
       "      <td>9.000000</td>\n",
       "      <td>2202.000000</td>\n",
       "      <td>0.0</td>\n",
       "      <td>38.000000</td>\n",
       "    </tr>\n",
       "    <tr>\n",
       "      <td>50%</td>\n",
       "      <td>39.000000</td>\n",
       "      <td>177825.000000</td>\n",
       "      <td>9.000000</td>\n",
       "      <td>3273.000000</td>\n",
       "      <td>0.0</td>\n",
       "      <td>40.000000</td>\n",
       "    </tr>\n",
       "    <tr>\n",
       "      <td>75%</td>\n",
       "      <td>52.000000</td>\n",
       "      <td>239596.000000</td>\n",
       "      <td>11.000000</td>\n",
       "      <td>4101.000000</td>\n",
       "      <td>0.0</td>\n",
       "      <td>45.000000</td>\n",
       "    </tr>\n",
       "    <tr>\n",
       "      <td>max</td>\n",
       "      <td>90.000000</td>\n",
       "      <td>930948.000000</td>\n",
       "      <td>16.000000</td>\n",
       "      <td>41310.000000</td>\n",
       "      <td>0.0</td>\n",
       "      <td>99.000000</td>\n",
       "    </tr>\n",
       "  </tbody>\n",
       "</table>\n",
       "</div>"
      ],
      "text/plain": [
       "               age         fnlwgt  education_num  capital_gain  capital_loss  \\\n",
       "count  1035.000000    1035.000000    1035.000000   1035.000000        1035.0   \n",
       "mean     41.753623  187292.802899       9.714976   3552.812560           0.0   \n",
       "std      15.810904  104247.362954       2.533894   3173.419287           0.0   \n",
       "min      17.000000   19302.000000       1.000000    114.000000           0.0   \n",
       "25%      29.000000  115837.500000       9.000000   2202.000000           0.0   \n",
       "50%      39.000000  177825.000000       9.000000   3273.000000           0.0   \n",
       "75%      52.000000  239596.000000      11.000000   4101.000000           0.0   \n",
       "max      90.000000  930948.000000      16.000000  41310.000000           0.0   \n",
       "\n",
       "       hours_per_week  \n",
       "count     1035.000000  \n",
       "mean        39.764251  \n",
       "std         13.156860  \n",
       "min          1.000000  \n",
       "25%         38.000000  \n",
       "50%         40.000000  \n",
       "75%         45.000000  \n",
       "max         99.000000  "
      ]
     },
     "execution_count": 40,
     "metadata": {},
     "output_type": "execute_result"
    }
   ],
   "source": [
    "adult_cap_gain_greater_0_and_under_50k.describe()"
   ]
  },
  {
   "cell_type": "code",
   "execution_count": 41,
   "metadata": {},
   "outputs": [
    {
     "data": {
      "text/html": [
       "<div>\n",
       "<style scoped>\n",
       "    .dataframe tbody tr th:only-of-type {\n",
       "        vertical-align: middle;\n",
       "    }\n",
       "\n",
       "    .dataframe tbody tr th {\n",
       "        vertical-align: top;\n",
       "    }\n",
       "\n",
       "    .dataframe thead th {\n",
       "        text-align: right;\n",
       "    }\n",
       "</style>\n",
       "<table border=\"1\" class=\"dataframe\">\n",
       "  <thead>\n",
       "    <tr style=\"text-align: right;\">\n",
       "      <th></th>\n",
       "      <th>age</th>\n",
       "      <th>fnlwgt</th>\n",
       "      <th>education_num</th>\n",
       "      <th>capital_gain</th>\n",
       "      <th>capital_loss</th>\n",
       "      <th>hours_per_week</th>\n",
       "    </tr>\n",
       "  </thead>\n",
       "  <tbody>\n",
       "    <tr>\n",
       "      <td>count</td>\n",
       "      <td>746.000000</td>\n",
       "      <td>746.000000</td>\n",
       "      <td>746.000000</td>\n",
       "      <td>746.0</td>\n",
       "      <td>746.000000</td>\n",
       "      <td>746.000000</td>\n",
       "    </tr>\n",
       "    <tr>\n",
       "      <td>mean</td>\n",
       "      <td>38.782842</td>\n",
       "      <td>183143.652815</td>\n",
       "      <td>9.894102</td>\n",
       "      <td>0.0</td>\n",
       "      <td>1760.982574</td>\n",
       "      <td>40.032172</td>\n",
       "    </tr>\n",
       "    <tr>\n",
       "      <td>std</td>\n",
       "      <td>13.927657</td>\n",
       "      <td>100063.024134</td>\n",
       "      <td>2.500103</td>\n",
       "      <td>0.0</td>\n",
       "      <td>438.906164</td>\n",
       "      <td>11.990445</td>\n",
       "    </tr>\n",
       "    <tr>\n",
       "      <td>min</td>\n",
       "      <td>17.000000</td>\n",
       "      <td>20956.000000</td>\n",
       "      <td>1.000000</td>\n",
       "      <td>0.0</td>\n",
       "      <td>155.000000</td>\n",
       "      <td>1.000000</td>\n",
       "    </tr>\n",
       "    <tr>\n",
       "      <td>25%</td>\n",
       "      <td>28.000000</td>\n",
       "      <td>116425.000000</td>\n",
       "      <td>9.000000</td>\n",
       "      <td>0.0</td>\n",
       "      <td>1590.000000</td>\n",
       "      <td>40.000000</td>\n",
       "    </tr>\n",
       "    <tr>\n",
       "      <td>50%</td>\n",
       "      <td>37.000000</td>\n",
       "      <td>175128.500000</td>\n",
       "      <td>10.000000</td>\n",
       "      <td>0.0</td>\n",
       "      <td>1721.000000</td>\n",
       "      <td>40.000000</td>\n",
       "    </tr>\n",
       "    <tr>\n",
       "      <td>75%</td>\n",
       "      <td>47.000000</td>\n",
       "      <td>224999.500000</td>\n",
       "      <td>12.000000</td>\n",
       "      <td>0.0</td>\n",
       "      <td>1980.000000</td>\n",
       "      <td>43.750000</td>\n",
       "    </tr>\n",
       "    <tr>\n",
       "      <td>max</td>\n",
       "      <td>90.000000</td>\n",
       "      <td>816750.000000</td>\n",
       "      <td>16.000000</td>\n",
       "      <td>0.0</td>\n",
       "      <td>4356.000000</td>\n",
       "      <td>98.000000</td>\n",
       "    </tr>\n",
       "  </tbody>\n",
       "</table>\n",
       "</div>"
      ],
      "text/plain": [
       "              age         fnlwgt  education_num  capital_gain  capital_loss  \\\n",
       "count  746.000000     746.000000     746.000000         746.0    746.000000   \n",
       "mean    38.782842  183143.652815       9.894102           0.0   1760.982574   \n",
       "std     13.927657  100063.024134       2.500103           0.0    438.906164   \n",
       "min     17.000000   20956.000000       1.000000           0.0    155.000000   \n",
       "25%     28.000000  116425.000000       9.000000           0.0   1590.000000   \n",
       "50%     37.000000  175128.500000      10.000000           0.0   1721.000000   \n",
       "75%     47.000000  224999.500000      12.000000           0.0   1980.000000   \n",
       "max     90.000000  816750.000000      16.000000           0.0   4356.000000   \n",
       "\n",
       "       hours_per_week  \n",
       "count      746.000000  \n",
       "mean        40.032172  \n",
       "std         11.990445  \n",
       "min          1.000000  \n",
       "25%         40.000000  \n",
       "50%         40.000000  \n",
       "75%         43.750000  \n",
       "max         98.000000  "
      ]
     },
     "execution_count": 41,
     "metadata": {},
     "output_type": "execute_result"
    }
   ],
   "source": [
    "adult_cap_loss_greater_0_and_under_50k.describe()"
   ]
  },
  {
   "cell_type": "code",
   "execution_count": 42,
   "metadata": {},
   "outputs": [
    {
     "data": {
      "image/png": "[encoded data removed]",
      "text/plain": [
       "<Figure size 864x864 with 6 Axes>"
      ]
     },
     "metadata": {
      "needs_background": "light"
     },
     "output_type": "display_data"
    }
   ],
   "source": [
    "adult_cap_gain_greater_0_and_under_50k[list(numerical_columns.index)].hist(figsize = (12,12));"
   ]
  },
  {
   "cell_type": "code",
   "execution_count": 43,
   "metadata": {},
   "outputs": [
    {
     "data": {
      "image/png": "[encoded data removed]",
      "text/plain": [
       "<Figure size 864x864 with 6 Axes>"
      ]
     },
     "metadata": {
      "needs_background": "light"
     },
     "output_type": "display_data"
    }
   ],
   "source": [
    "adult_cap_loss_greater_0_and_under_50k[list(numerical_columns.index)].hist(figsize = (12,12));"
   ]
  },
  {
   "cell_type": "code",
   "execution_count": 44,
   "metadata": {},
   "outputs": [
    {
     "name": "stdout",
     "output_type": "stream",
     "text": [
      "Общее количество людей в исследовании: 32537\n",
      "\n",
      "Количество людей c приростом капитала равным 0: 29825 и они составляют 91.66%\n",
      "Количество людей c приростом капитала больше 0: 2712 и они составляют 8.34%\n",
      "Количество людей с потерей капитала равным 0: 31018 и они составляют 95.33%\n",
      "Количество людей с потерей капитала больше 0: 1519 и они составляют 4.67%\n",
      "\n",
      "Количество людей что зарабатывает больше 50000$: 7839 и они составляют 24.09%\n",
      "c приростом капитала больше 0: 1677 и они составляют 5.15%\n",
      "c потерей капитала больше 0: 773 и они составляют 2.38%\n",
      "\n",
      "Количество людей что зарабатывает 50000$ и менее: 24698 и они составляют 75.91%\n",
      "c приростом капитала больше 0: 1035 и они составляют 3.18%\n",
      "c потерей капитала больше 0: 746 и они составляют 2.29%\n"
     ]
    }
   ],
   "source": [
    "print('Общее количество людей в исследовании:', adult_data.shape[0])\n",
    "print('')\n",
    "print('Количество людей c приростом капитала равным 0:', adult_with_zero_capital_gain['capital_gain'].count(), 'и они составляют {:.2%}'.format(adult_with_zero_capital_gain['capital_gain'].count() / adult_data.shape[0]))\n",
    "print('Количество людей c приростом капитала больше 0:', (adult_data.shape[0] - adult_with_zero_capital_gain['capital_gain'].count()), 'и они составляют {:.2%}'.format((adult_data.shape[0] - adult_with_zero_capital_gain['capital_gain'].count()) / adult_data.shape[0]))\n",
    "print('Количество людей с потерей капитала равным 0:', adult_with_zero_capital_loss['capital_loss'].count(), 'и они составляют {:.2%}'.format(adult_with_zero_capital_loss['capital_gain'].count() / adult_data.shape[0]))\n",
    "print('Количество людей с потерей капитала больше 0:', (adult_data.shape[0] - adult_with_zero_capital_loss['capital_loss'].count()), 'и они составляют {:.2%}'.format((adult_data.shape[0] - adult_with_zero_capital_loss['capital_gain'].count()) / adult_data.shape[0]))\n",
    "print('')\n",
    "print('Количество людей что зарабатывает больше 50000$:', adult_over_50k_dollars['income'].count(), 'и они составляют {:.2%}'.format(adult_over_50k_dollars['capital_gain'].count() / adult_data.shape[0]))\n",
    "print('c приростом капитала больше 0:', adult_cap_gain_greater_0_and_over_50k['income'].count(), 'и они составляют {:.2%}'.format(adult_cap_gain_greater_0_and_over_50k['capital_gain'].count() / adult_data.shape[0]))\n",
    "print('c потерей капитала больше 0:',adult_cap_loss_greater_0_and_over_50k['income'].count(), 'и они составляют {:.2%}'.format(adult_cap_loss_greater_0_and_over_50k['capital_gain'].count() / adult_data.shape[0]))\n",
    "print('')\n",
    "print('Количество людей что зарабатывает 50000$ и менее:', adult_under_50k_dollars['income'].count(), 'и они составляют {:.2%}'.format(adult_under_50k_dollars['capital_gain'].count() / adult_data.shape[0]))\n",
    "print('c приростом капитала больше 0:', adult_cap_gain_greater_0_and_under_50k['income'].count(), 'и они составляют {:.2%}'.format(adult_cap_gain_greater_0_and_under_50k['capital_gain'].count() / adult_data.shape[0]))\n",
    "print('c потерей капитала больше 0:',adult_cap_loss_greater_0_and_under_50k['income'].count(), 'и они составляют {:.2%}'.format(adult_cap_loss_greater_0_and_under_50k['capital_gain'].count() / adult_data.shape[0]))\n"
   ]
  },
  {
   "cell_type": "markdown",
   "metadata": {},
   "source": [
    "Сравним количество людей зарабатывающих более 50 тыс. долларов или равно и менее 50 тыс.долларов в следующих диаграммах"
   ]
  },
  {
   "cell_type": "code",
   "execution_count": 45,
   "metadata": {},
   "outputs": [
    {
     "data": {
      "image/png": "[encoded data removed]",
      "text/plain": [
       "<Figure size 1224x432 with 2 Axes>"
      ]
     },
     "metadata": {
      "needs_background": "light"
     },
     "output_type": "display_data"
    },
    {
     "data": {
      "image/png": "[encoded data removed]",
      "text/plain": [
       "<Figure size 1224x432 with 2 Axes>"
      ]
     },
     "metadata": {
      "needs_background": "light"
     },
     "output_type": "display_data"
    },
    {
     "data": {
      "image/png": "[encoded data removed]",
      "text/plain": [
       "<Figure size 1224x432 with 2 Axes>"
      ]
     },
     "metadata": {
      "needs_background": "light"
     },
     "output_type": "display_data"
    }
   ],
   "source": [
    "table_occu = pd.crosstab(adult_data['occupation'], adult_data['income'])\n",
    "table_workclass = pd.crosstab(adult_data['workclass'], adult_data['income'])\n",
    "table_edu = pd.crosstab(adult_data['education'], adult_data['income'])\n",
    "table_marital = pd.crosstab(adult_data['marital_status'], adult_data['income'])\n",
    "table_race = pd.crosstab(adult_data['race'], adult_data['income'])\n",
    "table_sex = pd.crosstab(adult_data['sex'], adult_data['income'])\n",
    "table_country = pd.crosstab(adult_data['native_country'], adult_data['income'])\n",
    "\n",
    "\n",
    "fig = plt.figure(figsize = (17,6))\n",
    "ax = fig.add_subplot(1,2,1)\n",
    "(table_occu.div(table_occu.sum(axis= 1),axis = 0)*100).sort_values(by= '<=50K').plot(kind = 'bar',ax=ax);\n",
    "plt.xlabel(\"Occupation\",fontsize = 14);\n",
    "plt.ylabel('Proportion of People',fontsize = 14);\n",
    "\n",
    "ax = fig.add_subplot(1,2,2)\n",
    "(table_workclass.div(table_workclass.sum(axis = 1),axis = 0)*100).sort_values(by = '<=50K').plot(kind = 'bar',ax=ax);\n",
    "plt.xlabel(\"Workclass\",fontsize = 14);\n",
    "plt.ylabel('Proportion of People',fontsize = 14);\n",
    "\n",
    "fig = plt.figure(figsize = (17,6))\n",
    "\n",
    "ax = fig.add_subplot(1,2,1)\n",
    "(table_edu.div(table_edu.sum(axis = 1),axis = 0)*100).sort_values(by = '<=50K').plot(kind = 'bar',ax =ax);\n",
    "plt.xlabel('Education',fontsize = 14);\n",
    "plt.ylabel('Proportion of People',fontsize = 14);\n",
    "\n",
    "ax = fig.add_subplot(1,2,2)\n",
    "(table_marital.div(table_marital.sum(axis = 1),axis = 0)*100).sort_values(by = '<=50K').plot(kind = 'bar',ax = ax);\n",
    "plt.xlabel('Marital Status',fontsize = 14);\n",
    "plt.ylabel('Proportion of People',fontsize = 14);\n",
    "\n",
    "fig = plt.figure(figsize = (17,6))\n",
    "\n",
    "ax = fig.add_subplot(1,2,1)\n",
    "(table_race.div(table_race.sum(axis = 1),axis = 0)*100).sort_values(by = '<=50K').plot(kind = 'bar',ax =ax);\n",
    "plt.xlabel('Race',fontsize = 14);\n",
    "plt.ylabel('Proportion of People',fontsize = 14);\n",
    "\n",
    "ax = fig.add_subplot(1,2,2)\n",
    "(table_sex.div(table_sex.sum(axis = 1),axis = 0)*100).sort_values(by = '<=50K').plot(kind = 'bar',ax =ax);\n",
    "plt.xlabel('Sex',fontsize = 14);\n",
    "plt.ylabel('Proportion of People',fontsize = 14);"
   ]
  },
  {
   "cell_type": "code",
   "execution_count": 46,
   "metadata": {},
   "outputs": [
    {
     "data": {
      "image/png": "[encoded data removed]",
      "text/plain": [
       "<Figure size 1224x432 with 1 Axes>"
      ]
     },
     "metadata": {
      "needs_background": "light"
     },
     "output_type": "display_data"
    }
   ],
   "source": [
    "table_country = pd.crosstab(adult_data['native_country'], adult_data['income'])\n",
    "(table_country.div(table_country.sum(axis = 1),axis = 0)*100).sort_values(by = '<=50K').plot(kind = 'bar',stacked = True,figsize = (17,6));\n",
    "plt.xlabel('Native Country',fontsize = 14);\n",
    "plt.ylabel('Proportion of People',fontsize = 14);"
   ]
  },
  {
   "cell_type": "markdown",
   "metadata": {},
   "source": [
    "Из этих столбиковых диаграм можно сделать следующие выводы:\n",
    "- в диаграмме профессий, доля людей, получающих зарплату менее 50 тыс.долларов в год, выше;\n",
    "- из всего рабочего класса только 59% самозанятых людей получают зарплату более 50 тысяч;\n",
    "- более 50% людей имеющих магистерскую степень и выше имеют более 50 тыс.долларов в год;\n",
    "- около 40% состоящих в браке людей получают зарплату больше 50 тыс.долларов в год;\n",
    "- в каждой из рас от 5 до 25% людей зарабатывают более 50 тыс.долларов в год;\n",
    "- из общего числа мужчин около 30% из них получают зарплату более 50 тыс.долларов в год, менее 15% женщин из общего числа зарабатывают более 50 тыс.долларов в год."
   ]
  },
  {
   "cell_type": "markdown",
   "metadata": {},
   "source": [
    "Посмотрим корреляцию между числовыми значениями"
   ]
  },
  {
   "cell_type": "code",
   "execution_count": 47,
   "metadata": {},
   "outputs": [
    {
     "data": {
      "text/plain": [
       "<matplotlib.axes._subplots.AxesSubplot at 0xb5c65c8>"
      ]
     },
     "execution_count": 47,
     "metadata": {},
     "output_type": "execute_result"
    },
    {
     "data": {
      "image/png": "[encoded data removed]",
      "text/plain": [
       "<Figure size 864x432 with 2 Axes>"
      ]
     },
     "metadata": {
      "needs_background": "light"
     },
     "output_type": "display_data"
    }
   ],
   "source": [
    "fig = plt.figure(figsize = (12,6))\n",
    "sns.heatmap(adult_data[list(numerical_columns.index)].corr(), annot = True, square = True)"
   ]
  },
  {
   "cell_type": "markdown",
   "metadata": {},
   "source": [
    "Исходя из данной карты можно сделать следующие выводы о силе корреляции показателей\n",
    "\n",
    "Сильные:\n",
    "- 0.15 - ранг обучения и к-во часов в неделю;\n",
    "- 0.12 - ранг обучения и рост капитала;\n",
    "\n",
    "Умеренные:\n",
    "- 0.08 - ранг обучения и потеря капитала;\n",
    "- 0.078 - возраст и рост капитала;\n",
    "- 0.069 - возраст и к-во часов в неделю;\n",
    "- 0.058 - возраст и потеря капитала;\n",
    "- 0.054 - потеря капитала и к-во часов в неделю.\n"
   ]
  },
  {
   "cell_type": "markdown",
   "metadata": {},
   "source": [
    "Выводы по показателями выбросов:\n",
    "- прирост капитала в 99999 не следует какой-либо схеме и по графику выше он четко выделяется как выброс;\n",
    "- в наборе данных есть люди в возрасте 90 лет и работающие более 40 часов в неделю.\n",
    "\n",
    "Дублирующие колонки:\n",
    "- колонка с образованим и рангом образования дают аналогичную информацию;\n",
    "- колонка отношения и семейное положение подразумевают схожую информацию.\n",
    "\n",
    "Следовательно, мы будем сохранять только одну из них."
   ]
  },
  {
   "cell_type": "markdown",
   "metadata": {},
   "source": [
    "## **Подготавливаем данные для машинного обучения**"
   ]
  },
  {
   "cell_type": "code",
   "execution_count": 48,
   "metadata": {},
   "outputs": [
    {
     "name": "stdout",
     "output_type": "stream",
     "text": [
      "К-во людей в датасете: 32537\n",
      "К-во людей после удаления: 32378\n"
     ]
    }
   ],
   "source": [
    "# удаляем строки где увеличение капитала в год равно 99999\n",
    "\n",
    "print(\"К-во людей в датасете:\", adult_data.shape[0])\n",
    "\n",
    "index_gain = adult_data[adult_data['capital_gain'] == 99999].index\n",
    "\n",
    "adult_data.drop(labels = index_gain, axis = 0, inplace =True)\n",
    "\n",
    "print(\"К-во людей после удаления:\", adult_data.shape[0])"
   ]
  },
  {
   "cell_type": "code",
   "execution_count": 49,
   "metadata": {},
   "outputs": [
    {
     "name": "stdout",
     "output_type": "stream",
     "text": [
      "К-во людей в датасете: 32378\n",
      "К-во людей после удаления: 32336\n"
     ]
    }
   ],
   "source": [
    "# удаляем строки с возрастом 90 лет\n",
    "\n",
    "print(\"К-во людей в датасете:\", adult_data.shape[0])\n",
    "\n",
    "index_age = adult_data[adult_data['age'] == 90].index\n",
    "\n",
    "adult_data.drop(labels = index_age,axis = 0, inplace =True)\n",
    "\n",
    "print(\"К-во людей после удаления:\", adult_data.shape[0])"
   ]
  },
  {
   "cell_type": "code",
   "execution_count": 50,
   "metadata": {},
   "outputs": [
    {
     "name": "stdout",
     "output_type": "stream",
     "text": [
      "К-во колонок: 15\n",
      "К-во колонок после удаления: 13\n"
     ]
    }
   ],
   "source": [
    "# удаляем колонки дублирующую информацию\n",
    "\n",
    "print(f\"К-во колонок: {adult_data.shape[1]}\")\n",
    "\n",
    "delete_columns = ['relationship','education_num']\n",
    "\n",
    "adult_data.drop(labels = delete_columns,axis = 1,inplace = True)\n",
    "\n",
    "print(f\"К-во колонок после удаления: {adult_data.shape[1]}\")"
   ]
  },
  {
   "cell_type": "code",
   "execution_count": 51,
   "metadata": {},
   "outputs": [],
   "source": [
    "categorical_columns_new = (adult_data.dtypes[adult_data.dtypes == 'object']).index\n",
    "numerical_columns_new = (adult_data.dtypes[adult_data.dtypes == 'int64']).index"
   ]
  },
  {
   "cell_type": "code",
   "execution_count": 52,
   "metadata": {},
   "outputs": [
    {
     "data": {
      "text/plain": [
       "Index(['workclass', 'education', 'marital_status', 'occupation', 'race', 'sex',\n",
       "       'native_country', 'income'],\n",
       "      dtype='object')"
      ]
     },
     "execution_count": 52,
     "metadata": {},
     "output_type": "execute_result"
    }
   ],
   "source": [
    "categorical_columns_new"
   ]
  },
  {
   "cell_type": "code",
   "execution_count": 53,
   "metadata": {},
   "outputs": [
    {
     "data": {
      "text/plain": [
       "Index(['age', 'fnlwgt', 'capital_gain', 'capital_loss', 'hours_per_week'], dtype='object')"
      ]
     },
     "execution_count": 53,
     "metadata": {},
     "output_type": "execute_result"
    }
   ],
   "source": [
    "numerical_columns_new"
   ]
  },
  {
   "cell_type": "code",
   "execution_count": 54,
   "metadata": {},
   "outputs": [
    {
     "data": {
      "text/html": [
       "<div>\n",
       "<style scoped>\n",
       "    .dataframe tbody tr th:only-of-type {\n",
       "        vertical-align: middle;\n",
       "    }\n",
       "\n",
       "    .dataframe tbody tr th {\n",
       "        vertical-align: top;\n",
       "    }\n",
       "\n",
       "    .dataframe thead th {\n",
       "        text-align: right;\n",
       "    }\n",
       "</style>\n",
       "<table border=\"1\" class=\"dataframe\">\n",
       "  <thead>\n",
       "    <tr style=\"text-align: right;\">\n",
       "      <th></th>\n",
       "      <th>age</th>\n",
       "      <th>fnlwgt</th>\n",
       "      <th>capital_gain</th>\n",
       "      <th>capital_loss</th>\n",
       "      <th>hours_per_week</th>\n",
       "    </tr>\n",
       "  </thead>\n",
       "  <tbody>\n",
       "    <tr>\n",
       "      <td>0</td>\n",
       "      <td>0.915493</td>\n",
       "      <td>0.081896</td>\n",
       "      <td>0.0</td>\n",
       "      <td>1.000000</td>\n",
       "      <td>0.173469</td>\n",
       "    </tr>\n",
       "    <tr>\n",
       "      <td>1</td>\n",
       "      <td>0.690141</td>\n",
       "      <td>0.118021</td>\n",
       "      <td>0.0</td>\n",
       "      <td>1.000000</td>\n",
       "      <td>0.397959</td>\n",
       "    </tr>\n",
       "    <tr>\n",
       "      <td>2</td>\n",
       "      <td>0.521127</td>\n",
       "      <td>0.086982</td>\n",
       "      <td>0.0</td>\n",
       "      <td>0.895317</td>\n",
       "      <td>0.397959</td>\n",
       "    </tr>\n",
       "    <tr>\n",
       "      <td>3</td>\n",
       "      <td>0.338028</td>\n",
       "      <td>0.171404</td>\n",
       "      <td>0.0</td>\n",
       "      <td>0.895317</td>\n",
       "      <td>0.397959</td>\n",
       "    </tr>\n",
       "    <tr>\n",
       "      <td>4</td>\n",
       "      <td>0.239437</td>\n",
       "      <td>0.138941</td>\n",
       "      <td>0.0</td>\n",
       "      <td>0.865473</td>\n",
       "      <td>0.448980</td>\n",
       "    </tr>\n",
       "  </tbody>\n",
       "</table>\n",
       "</div>"
      ],
      "text/plain": [
       "        age    fnlwgt  capital_gain  capital_loss  hours_per_week\n",
       "0  0.915493  0.081896           0.0      1.000000        0.173469\n",
       "1  0.690141  0.118021           0.0      1.000000        0.397959\n",
       "2  0.521127  0.086982           0.0      0.895317        0.397959\n",
       "3  0.338028  0.171404           0.0      0.895317        0.397959\n",
       "4  0.239437  0.138941           0.0      0.865473        0.448980"
      ]
     },
     "execution_count": 54,
     "metadata": {},
     "output_type": "execute_result"
    }
   ],
   "source": [
    "from sklearn.pipeline import Pipeline\n",
    "from sklearn.base import TransformerMixin\n",
    "from sklearn.preprocessing import MinMaxScaler,StandardScaler\n",
    "scaler = MinMaxScaler()\n",
    "pd.DataFrame(scaler.fit_transform(adult_data[numerical_columns_new]), columns = numerical_columns_new).head(5)"
   ]
  },
  {
   "cell_type": "code",
   "execution_count": 55,
   "metadata": {},
   "outputs": [],
   "source": [
    "class DataFrameSelector(TransformerMixin):\n",
    "    def __init__(self,attribute_names):\n",
    "        self.attribute_names = attribute_names\n",
    "                \n",
    "    def fit(self,X,y = None):\n",
    "        return self\n",
    "    \n",
    "    def transform(self,X):\n",
    "        return X[self.attribute_names]\n",
    "    \n",
    "class num_trans(TransformerMixin):\n",
    "    def __init__(self):\n",
    "        pass\n",
    "    \n",
    "    def fit(self,X,y=None):\n",
    "        return self\n",
    "    \n",
    "    def transform(self,X):\n",
    "        df = pd.DataFrame(X)\n",
    "        df.columns = numerical_columns_new \n",
    "        return df\n",
    "    \n",
    "pipeline = Pipeline([('selector',DataFrameSelector(numerical_columns_new)),  \n",
    "                     ('scaler',MinMaxScaler()),\n",
    "                    ('transform',num_trans())])"
   ]
  },
  {
   "cell_type": "code",
   "execution_count": 56,
   "metadata": {},
   "outputs": [
    {
     "data": {
      "text/plain": [
       "(32336, 5)"
      ]
     },
     "execution_count": 56,
     "metadata": {},
     "output_type": "execute_result"
    }
   ],
   "source": [
    "num_df = pipeline.fit_transform(adult_data)\n",
    "num_df.shape"
   ]
  },
  {
   "cell_type": "code",
   "execution_count": 57,
   "metadata": {},
   "outputs": [],
   "source": [
    "# колонки которые не нужны после создание фиктивных переменных\n",
    "\n",
    "cols = ['workclass_Govt_employess','education_Some-college', 'marital_status_Never-married','occupation_Other-service', 'race_Black','sex_Male','income_>50K']"
   ]
  },
  {
   "cell_type": "code",
   "execution_count": 58,
   "metadata": {},
   "outputs": [
    {
     "data": {
      "text/plain": [
       "(32336, 92)"
      ]
     },
     "execution_count": 58,
     "metadata": {},
     "output_type": "execute_result"
    }
   ],
   "source": [
    "class dummies(TransformerMixin):\n",
    "    def __init__(self,cols):\n",
    "        self.cols = cols\n",
    "    \n",
    "    def fit(self,X,y = None):\n",
    "        return self\n",
    "    \n",
    "    def transform(self,X):\n",
    "        df = pd.get_dummies(X)\n",
    "        df_new = df[df.columns.difference(cols)]         \n",
    "        return df_new\n",
    "\n",
    "pipeline_cat=Pipeline([('selector', DataFrameSelector(categorical_columns_new)),\n",
    "                      ('dummies', dummies(cols))])\n",
    "cat_df = pipeline_cat.fit_transform(adult_data)\n",
    "cat_df.shape"
   ]
  },
  {
   "cell_type": "code",
   "execution_count": 59,
   "metadata": {},
   "outputs": [
    {
     "name": "stdout",
     "output_type": "stream",
     "text": [
      "К-во наблюдений в финальном датасете: (32135, 98)\n"
     ]
    }
   ],
   "source": [
    "cat_df['id'] = pd.Series(range(cat_df.shape[0]))\n",
    "\n",
    "num_df['id'] = pd.Series(range(num_df.shape[0]))\n",
    "\n",
    "final_df = pd.merge(cat_df,num_df,how = 'inner', on = 'id')\n",
    "\n",
    "print(f\"К-во наблюдений в финальном датасете: {final_df.shape}\")"
   ]
  },
  {
   "cell_type": "markdown",
   "metadata": {},
   "source": [
    "## **Тренируем и настраиваем модели**"
   ]
  },
  {
   "cell_type": "code",
   "execution_count": 60,
   "metadata": {},
   "outputs": [],
   "source": [
    "y = final_df['income_<=50K']\n",
    "final_df.drop(labels = ['id','income_<=50K'],axis = 1,inplace = True)\n",
    "X = final_df"
   ]
  },
  {
   "cell_type": "markdown",
   "metadata": {},
   "source": [
    "Импортируем библиотеки для машинного обучения"
   ]
  },
  {
   "cell_type": "code",
   "execution_count": 61,
   "metadata": {
    "scrolled": true
   },
   "outputs": [],
   "source": [
    "from sklearn.model_selection import train_test_split,cross_val_score,GridSearchCV\n",
    "from sklearn.linear_model import LogisticRegression\n",
    "from sklearn.tree import DecisionTreeClassifier\n",
    "from sklearn.svm import SVC\n",
    "from sklearn.neighbors import KNeighborsClassifier\n",
    "from sklearn.ensemble import RandomForestClassifier,AdaBoostClassifier,BaggingClassifier,ExtraTreesClassifier\n",
    "from sklearn.naive_bayes import GaussianNB\n",
    "from sklearn.metrics import accuracy_score,confusion_matrix,classification_report,roc_curve, auc\n",
    "from datetime import datetime\n",
    "from sklearn.feature_selection import RFE"
   ]
  },
  {
   "cell_type": "code",
   "execution_count": 62,
   "metadata": {},
   "outputs": [],
   "source": [
    "X_train,X_test,y_train,y_test = train_test_split(X,y,test_size =0.25,random_state = 42)"
   ]
  },
  {
   "cell_type": "code",
   "execution_count": 63,
   "metadata": {},
   "outputs": [],
   "source": [
    "# определяем классификаторы\n",
    "\n",
    "clf_logreg = LogisticRegression()\n",
    "clf_tree = DecisionTreeClassifier()\n",
    "clf_knn =  KNeighborsClassifier()\n",
    "clf_svc = SVC()\n",
    "clf_forest = RandomForestClassifier()\n",
    "clf_ada = AdaBoostClassifier()\n",
    "clf_bagging = BaggingClassifier()\n",
    "clf_extratrees = ExtraTreesClassifier()\n",
    "clf_gnb = GaussianNB()"
   ]
  },
  {
   "cell_type": "code",
   "execution_count": 64,
   "metadata": {},
   "outputs": [],
   "source": [
    "classifiers = ['LogisticRegression', 'DecisionTree', 'KNN', 'SVC', 'RandomForest', 'Adaboost', 'Bagging', 'Extratrees', 'Naive']"
   ]
  },
  {
   "cell_type": "code",
   "execution_count": 65,
   "metadata": {},
   "outputs": [],
   "source": [
    "models = {clf_logreg:'LogisticRegression',\n",
    "          clf_tree:'DecisionTree',\n",
    "          clf_knn: 'KNN',\n",
    "          clf_svc: 'SVC',\n",
    "          clf_forest: 'RandomForest',\n",
    "          clf_ada: 'Adaboost',\n",
    "          clf_bagging: 'Bagging',\n",
    "          clf_extratrees:'Extratrees' ,\n",
    "          clf_gnb: 'Naive'}"
   ]
  },
  {
   "cell_type": "code",
   "execution_count": 66,
   "metadata": {},
   "outputs": [
    {
     "name": "stderr",
     "output_type": "stream",
     "text": [
      "C:\\Users\\User\\Anaconda3\\lib\\site-packages\\sklearn\\linear_model\\_logistic.py:939: ConvergenceWarning: lbfgs failed to converge (status=1):\n",
      "STOP: TOTAL NO. of ITERATIONS REACHED LIMIT.\n",
      "\n",
      "Increase the number of iterations (max_iter) or scale the data as shown in:\n",
      "    https://scikit-learn.org/stable/modules/preprocessing.html.\n",
      "Please also refer to the documentation for alternative solver options:\n",
      "    https://scikit-learn.org/stable/modules/linear_model.html#logistic-regression\n",
      "  extra_warning_msg=_LOGISTIC_SOLVER_CONVERGENCE_MSG)\n"
     ]
    },
    {
     "name": "stdout",
     "output_type": "stream",
     "text": [
      "--------------------------------------------LogisticRegression---------------------------------------------------\n",
      "Accuracy Score for LogisticRegression: 84.4536%\n",
      "Null Accuracy: 23.5250%\n",
      "Confusion Matrix\n",
      "[[1063  827]\n",
      " [ 422 5722]]\n",
      "+++++++++++++++++++++++++++++++++++++++++++++++++++++++++++++++++++++++++++\n",
      "Accuracy Score: 84.4536%\n",
      "Recall Score: 93.1315%\n",
      "Specificity Score: 56.2434%\n",
      "False Positive Rate: 43.7566%\n",
      "Precision Score: 87.3721%\n",
      "+++++++++++++++++++++++++++++++++++++++++++++++++++++++++++++++++++++++++++\n",
      "Classification Report\n",
      "              precision    recall  f1-score   support\n",
      "\n",
      "           0       0.72      0.56      0.63      1890\n",
      "           1       0.87      0.93      0.90      6144\n",
      "\n",
      "    accuracy                           0.84      8034\n",
      "   macro avg       0.79      0.75      0.77      8034\n",
      "weighted avg       0.84      0.84      0.84      8034\n",
      "\n",
      "--------------------------------------------DecisionTree---------------------------------------------------\n",
      "Accuracy Score for DecisionTree: 80.0100%\n",
      "Null Accuracy: 23.5250%\n",
      "Confusion Matrix\n",
      "[[1111  779]\n",
      " [ 827 5317]]\n",
      "+++++++++++++++++++++++++++++++++++++++++++++++++++++++++++++++++++++++++++\n",
      "Accuracy Score: 80.0100%\n",
      "Recall Score: 86.5397%\n",
      "Specificity Score: 58.7831%\n",
      "False Positive Rate: 41.2169%\n",
      "Precision Score: 87.2211%\n",
      "+++++++++++++++++++++++++++++++++++++++++++++++++++++++++++++++++++++++++++\n",
      "Classification Report\n",
      "              precision    recall  f1-score   support\n",
      "\n",
      "           0       0.57      0.59      0.58      1890\n",
      "           1       0.87      0.87      0.87      6144\n",
      "\n",
      "    accuracy                           0.80      8034\n",
      "   macro avg       0.72      0.73      0.72      8034\n",
      "weighted avg       0.80      0.80      0.80      8034\n",
      "\n",
      "--------------------------------------------KNN---------------------------------------------------\n",
      "Accuracy Score for KNN: 81.5534%\n",
      "Null Accuracy: 23.5250%\n",
      "Confusion Matrix\n",
      "[[ 946  944]\n",
      " [ 538 5606]]\n",
      "+++++++++++++++++++++++++++++++++++++++++++++++++++++++++++++++++++++++++++\n",
      "Accuracy Score: 81.5534%\n",
      "Recall Score: 91.2435%\n",
      "Specificity Score: 50.0529%\n",
      "False Positive Rate: 49.9471%\n",
      "Precision Score: 85.5878%\n",
      "+++++++++++++++++++++++++++++++++++++++++++++++++++++++++++++++++++++++++++\n",
      "Classification Report\n",
      "              precision    recall  f1-score   support\n",
      "\n",
      "           0       0.64      0.50      0.56      1890\n",
      "           1       0.86      0.91      0.88      6144\n",
      "\n",
      "    accuracy                           0.82      8034\n",
      "   macro avg       0.75      0.71      0.72      8034\n",
      "weighted avg       0.80      0.82      0.81      8034\n",
      "\n",
      "--------------------------------------------SVC---------------------------------------------------\n",
      "Accuracy Score for SVC: 84.6154%\n",
      "Null Accuracy: 23.5250%\n",
      "Confusion Matrix\n",
      "[[1060  830]\n",
      " [ 406 5738]]\n",
      "+++++++++++++++++++++++++++++++++++++++++++++++++++++++++++++++++++++++++++\n",
      "Accuracy Score: 84.6154%\n",
      "Recall Score: 93.3919%\n",
      "Specificity Score: 56.0847%\n",
      "False Positive Rate: 43.9153%\n",
      "Precision Score: 87.3630%\n",
      "+++++++++++++++++++++++++++++++++++++++++++++++++++++++++++++++++++++++++++\n",
      "Classification Report\n",
      "              precision    recall  f1-score   support\n",
      "\n",
      "           0       0.72      0.56      0.63      1890\n",
      "           1       0.87      0.93      0.90      6144\n",
      "\n",
      "    accuracy                           0.85      8034\n",
      "   macro avg       0.80      0.75      0.77      8034\n",
      "weighted avg       0.84      0.85      0.84      8034\n",
      "\n",
      "--------------------------------------------RandomForest---------------------------------------------------\n",
      "Accuracy Score for RandomForest: 84.2544%\n",
      "Null Accuracy: 23.5250%\n",
      "Confusion Matrix\n",
      "[[1074  816]\n",
      " [ 449 5695]]\n",
      "+++++++++++++++++++++++++++++++++++++++++++++++++++++++++++++++++++++++++++\n",
      "Accuracy Score: 84.2544%\n",
      "Recall Score: 92.6921%\n",
      "Specificity Score: 56.8254%\n",
      "False Positive Rate: 43.1746%\n",
      "Precision Score: 87.4674%\n",
      "+++++++++++++++++++++++++++++++++++++++++++++++++++++++++++++++++++++++++++\n",
      "Classification Report\n",
      "              precision    recall  f1-score   support\n",
      "\n",
      "           0       0.71      0.57      0.63      1890\n",
      "           1       0.87      0.93      0.90      6144\n",
      "\n",
      "    accuracy                           0.84      8034\n",
      "   macro avg       0.79      0.75      0.76      8034\n",
      "weighted avg       0.83      0.84      0.84      8034\n",
      "\n",
      "--------------------------------------------Adaboost---------------------------------------------------\n",
      "Accuracy Score for Adaboost: 85.1880%\n",
      "Null Accuracy: 23.5250%\n",
      "Confusion Matrix\n",
      "[[1072  818]\n",
      " [ 372 5772]]\n",
      "+++++++++++++++++++++++++++++++++++++++++++++++++++++++++++++++++++++++++++\n",
      "Accuracy Score: 85.1880%\n",
      "Recall Score: 93.9453%\n",
      "Specificity Score: 56.7196%\n",
      "False Positive Rate: 43.2804%\n",
      "Precision Score: 87.5873%\n",
      "+++++++++++++++++++++++++++++++++++++++++++++++++++++++++++++++++++++++++++\n",
      "Classification Report\n",
      "              precision    recall  f1-score   support\n",
      "\n",
      "           0       0.74      0.57      0.64      1890\n",
      "           1       0.88      0.94      0.91      6144\n",
      "\n",
      "    accuracy                           0.85      8034\n",
      "   macro avg       0.81      0.75      0.77      8034\n",
      "weighted avg       0.84      0.85      0.84      8034\n",
      "\n",
      "--------------------------------------------Bagging---------------------------------------------------\n",
      "Accuracy Score for Bagging: 82.7608%\n",
      "Null Accuracy: 23.5250%\n",
      "Confusion Matrix\n",
      "[[1146  744]\n",
      " [ 641 5503]]\n",
      "+++++++++++++++++++++++++++++++++++++++++++++++++++++++++++++++++++++++++++\n",
      "Accuracy Score: 82.7608%\n",
      "Recall Score: 89.5671%\n",
      "Specificity Score: 60.6349%\n",
      "False Positive Rate: 39.3651%\n",
      "Precision Score: 88.0903%\n",
      "+++++++++++++++++++++++++++++++++++++++++++++++++++++++++++++++++++++++++++\n",
      "Classification Report\n",
      "              precision    recall  f1-score   support\n",
      "\n",
      "           0       0.64      0.61      0.62      1890\n",
      "           1       0.88      0.90      0.89      6144\n",
      "\n",
      "    accuracy                           0.83      8034\n",
      "   macro avg       0.76      0.75      0.76      8034\n",
      "weighted avg       0.82      0.83      0.83      8034\n",
      "\n",
      "--------------------------------------------Extratrees---------------------------------------------------\n",
      "Accuracy Score for Extratrees: 82.8479%\n",
      "Null Accuracy: 23.5250%\n",
      "Confusion Matrix\n",
      "[[1080  810]\n",
      " [ 568 5576]]\n",
      "+++++++++++++++++++++++++++++++++++++++++++++++++++++++++++++++++++++++++++\n",
      "Accuracy Score: 82.8479%\n",
      "Recall Score: 90.7552%\n",
      "Specificity Score: 57.1429%\n",
      "False Positive Rate: 42.8571%\n",
      "Precision Score: 87.3160%\n",
      "+++++++++++++++++++++++++++++++++++++++++++++++++++++++++++++++++++++++++++\n",
      "Classification Report\n",
      "              precision    recall  f1-score   support\n",
      "\n",
      "           0       0.66      0.57      0.61      1890\n",
      "           1       0.87      0.91      0.89      6144\n",
      "\n",
      "    accuracy                           0.83      8034\n",
      "   macro avg       0.76      0.74      0.75      8034\n",
      "weighted avg       0.82      0.83      0.82      8034\n",
      "\n",
      "--------------------------------------------Naive---------------------------------------------------\n",
      "Accuracy Score for Naive: 37.7769%\n",
      "Null Accuracy: 23.5250%\n",
      "Confusion Matrix\n",
      "[[1814   76]\n",
      " [4923 1221]]\n",
      "+++++++++++++++++++++++++++++++++++++++++++++++++++++++++++++++++++++++++++\n",
      "Accuracy Score: 37.7769%\n",
      "Recall Score: 19.8730%\n",
      "Specificity Score: 95.9788%\n",
      "False Positive Rate: 4.0212%\n",
      "Precision Score: 94.1403%\n",
      "+++++++++++++++++++++++++++++++++++++++++++++++++++++++++++++++++++++++++++\n",
      "Classification Report\n",
      "              precision    recall  f1-score   support\n",
      "\n",
      "           0       0.27      0.96      0.42      1890\n",
      "           1       0.94      0.20      0.33      6144\n",
      "\n",
      "    accuracy                           0.38      8034\n",
      "   macro avg       0.61      0.58      0.37      8034\n",
      "weighted avg       0.78      0.38      0.35      8034\n",
      "\n"
     ]
    }
   ],
   "source": [
    "# тренируем модели и возвращает оценку точности\n",
    "\n",
    "def train(algo,name,X_train,y_train,X_test,y_test):\n",
    "    algo.fit(X_train,y_train)\n",
    "    y_pred = algo.predict(X_test)\n",
    "    score = accuracy_score(y_test,y_pred)\n",
    "    print(f\"--------------------------------------------{name}---------------------------------------------------\")\n",
    "    print(f\"Accuracy Score for {name}: {score*100:.4f}%\")\n",
    "    return y_test,y_pred,score\n",
    "\n",
    "# acc_res функция вычисляет путаницу матрицы\n",
    "\n",
    "def acc_res(y_test,y_pred):\n",
    "    null_accuracy = y_test.value_counts()[0]/len(y_test)\n",
    "    print(f\"Null Accuracy: {null_accuracy*100:.4f}%\")\n",
    "    print(\"Confusion Matrix\")\n",
    "    matrix = confusion_matrix(y_test,y_pred)\n",
    "    print(matrix)\n",
    "    print(\"+++++++++++++++++++++++++++++++++++++++++++++++++++++++++++++++++++++++++++\")\n",
    "    TN = matrix[0,0]\n",
    "    FP = matrix[0,1]\n",
    "    FN = matrix[1,0]\n",
    "    TP = matrix[1,1]\n",
    "    accuracy_score=(TN+TP) / float(TP+TN+FP+FN)\n",
    "    recall_score = (TP)/ float(TP+FN)\n",
    "    specificity = TN / float(TN+FP)\n",
    "    FPR = FP / float(FP+TN)\n",
    "    precision_score = TP / float(TP+FP)\n",
    "    print(f\"Accuracy Score: {accuracy_score*100:.4f}%\")\n",
    "    print(f\"Recall Score: {recall_score*100:.4f}%\")\n",
    "    print(f\"Specificity Score: {specificity*100:.4f}%\")\n",
    "    print(f\"False Positive Rate: {FPR*100:.4f}%\")\n",
    "    print(f\"Precision Score: {precision_score*100:.4f}%\")\n",
    "    print(\"+++++++++++++++++++++++++++++++++++++++++++++++++++++++++++++++++++++++++++\")\n",
    "    print(\"Classification Report\")\n",
    "    print(classification_report(y_test,y_pred))\n",
    "    \n",
    "def main(models):\n",
    "    accuracy_scores = []\n",
    "    for algo,name in models.items():\n",
    "        y_test_train,y_pred,acc_score = train(algo,name,X_train,y_train,X_test,y_test)\n",
    "        acc_res(y_test_train,y_pred)\n",
    "        accuracy_scores.append(acc_score)\n",
    "    return accuracy_scores\n",
    "    \n",
    "accuracy_scores = main(models)    "
   ]
  },
  {
   "cell_type": "code",
   "execution_count": 67,
   "metadata": {},
   "outputs": [
    {
     "data": {
      "text/html": [
       "<div>\n",
       "<style scoped>\n",
       "    .dataframe tbody tr th:only-of-type {\n",
       "        vertical-align: middle;\n",
       "    }\n",
       "\n",
       "    .dataframe tbody tr th {\n",
       "        vertical-align: top;\n",
       "    }\n",
       "\n",
       "    .dataframe thead th {\n",
       "        text-align: right;\n",
       "    }\n",
       "</style>\n",
       "<table border=\"1\" class=\"dataframe\">\n",
       "  <thead>\n",
       "    <tr style=\"text-align: right;\">\n",
       "      <th></th>\n",
       "      <th>Accuracy Scores</th>\n",
       "    </tr>\n",
       "  </thead>\n",
       "  <tbody>\n",
       "    <tr>\n",
       "      <td>Adaboost</td>\n",
       "      <td>0.851880</td>\n",
       "    </tr>\n",
       "    <tr>\n",
       "      <td>SVC</td>\n",
       "      <td>0.846154</td>\n",
       "    </tr>\n",
       "    <tr>\n",
       "      <td>LogisticRegression</td>\n",
       "      <td>0.844536</td>\n",
       "    </tr>\n",
       "    <tr>\n",
       "      <td>RandomForest</td>\n",
       "      <td>0.842544</td>\n",
       "    </tr>\n",
       "    <tr>\n",
       "      <td>Extratrees</td>\n",
       "      <td>0.828479</td>\n",
       "    </tr>\n",
       "    <tr>\n",
       "      <td>Bagging</td>\n",
       "      <td>0.827608</td>\n",
       "    </tr>\n",
       "    <tr>\n",
       "      <td>KNN</td>\n",
       "      <td>0.815534</td>\n",
       "    </tr>\n",
       "    <tr>\n",
       "      <td>DecisionTree</td>\n",
       "      <td>0.800100</td>\n",
       "    </tr>\n",
       "    <tr>\n",
       "      <td>Naive</td>\n",
       "      <td>0.377769</td>\n",
       "    </tr>\n",
       "  </tbody>\n",
       "</table>\n",
       "</div>"
      ],
      "text/plain": [
       "                    Accuracy Scores\n",
       "Adaboost                   0.851880\n",
       "SVC                        0.846154\n",
       "LogisticRegression         0.844536\n",
       "RandomForest               0.842544\n",
       "Extratrees                 0.828479\n",
       "Bagging                    0.827608\n",
       "KNN                        0.815534\n",
       "DecisionTree               0.800100\n",
       "Naive                      0.377769"
      ]
     },
     "execution_count": 67,
     "metadata": {},
     "output_type": "execute_result"
    }
   ],
   "source": [
    "pd.DataFrame(accuracy_scores,columns = ['Accuracy Scores'],index = classifiers).sort_values(by = 'Accuracy Scores', ascending = False)"
   ]
  },
  {
   "cell_type": "code",
   "execution_count": 68,
   "metadata": {},
   "outputs": [],
   "source": [
    "models_new = {clf_logreg:'LogisticRegression',        \n",
    "              clf_forest: 'RandomForest',\n",
    "              clf_ada: 'Adaboost',\n",
    "              clf_bagging: 'Bagging'}\n",
    "\n",
    "classifiers_new = models_new.values()"
   ]
  },
  {
   "cell_type": "code",
   "execution_count": 69,
   "metadata": {},
   "outputs": [
    {
     "name": "stderr",
     "output_type": "stream",
     "text": [
      "C:\\Users\\User\\Anaconda3\\lib\\site-packages\\sklearn\\linear_model\\_logistic.py:939: ConvergenceWarning: lbfgs failed to converge (status=1):\n",
      "STOP: TOTAL NO. of ITERATIONS REACHED LIMIT.\n",
      "\n",
      "Increase the number of iterations (max_iter) or scale the data as shown in:\n",
      "    https://scikit-learn.org/stable/modules/preprocessing.html.\n",
      "Please also refer to the documentation for alternative solver options:\n",
      "    https://scikit-learn.org/stable/modules/linear_model.html#logistic-regression\n",
      "  extra_warning_msg=_LOGISTIC_SOLVER_CONVERGENCE_MSG)\n",
      "C:\\Users\\User\\Anaconda3\\lib\\site-packages\\sklearn\\linear_model\\_logistic.py:939: ConvergenceWarning: lbfgs failed to converge (status=1):\n",
      "STOP: TOTAL NO. of ITERATIONS REACHED LIMIT.\n",
      "\n",
      "Increase the number of iterations (max_iter) or scale the data as shown in:\n",
      "    https://scikit-learn.org/stable/modules/preprocessing.html.\n",
      "Please also refer to the documentation for alternative solver options:\n",
      "    https://scikit-learn.org/stable/modules/linear_model.html#logistic-regression\n",
      "  extra_warning_msg=_LOGISTIC_SOLVER_CONVERGENCE_MSG)\n",
      "C:\\Users\\User\\Anaconda3\\lib\\site-packages\\sklearn\\linear_model\\_logistic.py:939: ConvergenceWarning: lbfgs failed to converge (status=1):\n",
      "STOP: TOTAL NO. of ITERATIONS REACHED LIMIT.\n",
      "\n",
      "Increase the number of iterations (max_iter) or scale the data as shown in:\n",
      "    https://scikit-learn.org/stable/modules/preprocessing.html.\n",
      "Please also refer to the documentation for alternative solver options:\n",
      "    https://scikit-learn.org/stable/modules/linear_model.html#logistic-regression\n",
      "  extra_warning_msg=_LOGISTIC_SOLVER_CONVERGENCE_MSG)\n",
      "C:\\Users\\User\\Anaconda3\\lib\\site-packages\\sklearn\\linear_model\\_logistic.py:939: ConvergenceWarning: lbfgs failed to converge (status=1):\n",
      "STOP: TOTAL NO. of ITERATIONS REACHED LIMIT.\n",
      "\n",
      "Increase the number of iterations (max_iter) or scale the data as shown in:\n",
      "    https://scikit-learn.org/stable/modules/preprocessing.html.\n",
      "Please also refer to the documentation for alternative solver options:\n",
      "    https://scikit-learn.org/stable/modules/linear_model.html#logistic-regression\n",
      "  extra_warning_msg=_LOGISTIC_SOLVER_CONVERGENCE_MSG)\n",
      "C:\\Users\\User\\Anaconda3\\lib\\site-packages\\sklearn\\linear_model\\_logistic.py:939: ConvergenceWarning: lbfgs failed to converge (status=1):\n",
      "STOP: TOTAL NO. of ITERATIONS REACHED LIMIT.\n",
      "\n",
      "Increase the number of iterations (max_iter) or scale the data as shown in:\n",
      "    https://scikit-learn.org/stable/modules/preprocessing.html.\n",
      "Please also refer to the documentation for alternative solver options:\n",
      "    https://scikit-learn.org/stable/modules/linear_model.html#logistic-regression\n",
      "  extra_warning_msg=_LOGISTIC_SOLVER_CONVERGENCE_MSG)\n",
      "C:\\Users\\User\\Anaconda3\\lib\\site-packages\\sklearn\\linear_model\\_logistic.py:939: ConvergenceWarning: lbfgs failed to converge (status=1):\n",
      "STOP: TOTAL NO. of ITERATIONS REACHED LIMIT.\n",
      "\n",
      "Increase the number of iterations (max_iter) or scale the data as shown in:\n",
      "    https://scikit-learn.org/stable/modules/preprocessing.html.\n",
      "Please also refer to the documentation for alternative solver options:\n",
      "    https://scikit-learn.org/stable/modules/linear_model.html#logistic-regression\n",
      "  extra_warning_msg=_LOGISTIC_SOLVER_CONVERGENCE_MSG)\n",
      "C:\\Users\\User\\Anaconda3\\lib\\site-packages\\sklearn\\linear_model\\_logistic.py:939: ConvergenceWarning: lbfgs failed to converge (status=1):\n",
      "STOP: TOTAL NO. of ITERATIONS REACHED LIMIT.\n",
      "\n",
      "Increase the number of iterations (max_iter) or scale the data as shown in:\n",
      "    https://scikit-learn.org/stable/modules/preprocessing.html.\n",
      "Please also refer to the documentation for alternative solver options:\n",
      "    https://scikit-learn.org/stable/modules/linear_model.html#logistic-regression\n",
      "  extra_warning_msg=_LOGISTIC_SOLVER_CONVERGENCE_MSG)\n",
      "C:\\Users\\User\\Anaconda3\\lib\\site-packages\\sklearn\\linear_model\\_logistic.py:939: ConvergenceWarning: lbfgs failed to converge (status=1):\n",
      "STOP: TOTAL NO. of ITERATIONS REACHED LIMIT.\n",
      "\n",
      "Increase the number of iterations (max_iter) or scale the data as shown in:\n",
      "    https://scikit-learn.org/stable/modules/preprocessing.html.\n",
      "Please also refer to the documentation for alternative solver options:\n",
      "    https://scikit-learn.org/stable/modules/linear_model.html#logistic-regression\n",
      "  extra_warning_msg=_LOGISTIC_SOLVER_CONVERGENCE_MSG)\n",
      "C:\\Users\\User\\Anaconda3\\lib\\site-packages\\sklearn\\linear_model\\_logistic.py:939: ConvergenceWarning: lbfgs failed to converge (status=1):\n",
      "STOP: TOTAL NO. of ITERATIONS REACHED LIMIT.\n",
      "\n",
      "Increase the number of iterations (max_iter) or scale the data as shown in:\n",
      "    https://scikit-learn.org/stable/modules/preprocessing.html.\n",
      "Please also refer to the documentation for alternative solver options:\n",
      "    https://scikit-learn.org/stable/modules/linear_model.html#logistic-regression\n",
      "  extra_warning_msg=_LOGISTIC_SOLVER_CONVERGENCE_MSG)\n",
      "C:\\Users\\User\\Anaconda3\\lib\\site-packages\\sklearn\\linear_model\\_logistic.py:939: ConvergenceWarning: lbfgs failed to converge (status=1):\n",
      "STOP: TOTAL NO. of ITERATIONS REACHED LIMIT.\n",
      "\n",
      "Increase the number of iterations (max_iter) or scale the data as shown in:\n",
      "    https://scikit-learn.org/stable/modules/preprocessing.html.\n",
      "Please also refer to the documentation for alternative solver options:\n",
      "    https://scikit-learn.org/stable/modules/linear_model.html#logistic-regression\n",
      "  extra_warning_msg=_LOGISTIC_SOLVER_CONVERGENCE_MSG)\n"
     ]
    },
    {
     "name": "stdout",
     "output_type": "stream",
     "text": [
      "Time taken to complete training LogisticRegression model: (hh:mm:ss.ms) 0:00:06.406366\n",
      "Time taken to complete training RandomForest model: (hh:mm:ss.ms) 0:00:42.672441\n",
      "Time taken to complete training Adaboost model: (hh:mm:ss.ms) 0:00:21.240215\n",
      "Time taken to complete training Bagging model: (hh:mm:ss.ms) 0:00:26.834535\n"
     ]
    }
   ],
   "source": [
    "mean_score = []\n",
    "for model,value in models_new.items():\n",
    "    start_time = datetime.now()\n",
    "    scores = cross_val_score(model,X_train,y_train,scoring = 'accuracy',cv = 10)\n",
    "    elapsed_time = datetime.now() - start_time\n",
    "    print(f\"Time taken to complete training {value} model: (hh:mm:ss.ms) {elapsed_time}\")\n",
    "    mean_score.append(scores.mean())"
   ]
  },
  {
   "cell_type": "code",
   "execution_count": 70,
   "metadata": {},
   "outputs": [
    {
     "data": {
      "text/html": [
       "<div>\n",
       "<style scoped>\n",
       "    .dataframe tbody tr th:only-of-type {\n",
       "        vertical-align: middle;\n",
       "    }\n",
       "\n",
       "    .dataframe tbody tr th {\n",
       "        vertical-align: top;\n",
       "    }\n",
       "\n",
       "    .dataframe thead th {\n",
       "        text-align: right;\n",
       "    }\n",
       "</style>\n",
       "<table border=\"1\" class=\"dataframe\">\n",
       "  <thead>\n",
       "    <tr style=\"text-align: right;\">\n",
       "      <th></th>\n",
       "      <th>Accuracy Score</th>\n",
       "    </tr>\n",
       "  </thead>\n",
       "  <tbody>\n",
       "    <tr>\n",
       "      <td>Adaboost</td>\n",
       "      <td>0.855234</td>\n",
       "    </tr>\n",
       "    <tr>\n",
       "      <td>LogisticRegression</td>\n",
       "      <td>0.847517</td>\n",
       "    </tr>\n",
       "    <tr>\n",
       "      <td>RandomForest</td>\n",
       "      <td>0.840836</td>\n",
       "    </tr>\n",
       "    <tr>\n",
       "      <td>Bagging</td>\n",
       "      <td>0.825817</td>\n",
       "    </tr>\n",
       "  </tbody>\n",
       "</table>\n",
       "</div>"
      ],
      "text/plain": [
       "                    Accuracy Score\n",
       "Adaboost                  0.855234\n",
       "LogisticRegression        0.847517\n",
       "RandomForest              0.840836\n",
       "Bagging                   0.825817"
      ]
     },
     "execution_count": 70,
     "metadata": {},
     "output_type": "execute_result"
    }
   ],
   "source": [
    "pd.DataFrame(mean_score,index = classifiers_new, columns = ['Accuracy Score']).sort_values(by = 'Accuracy Score', ascending = False)"
   ]
  },
  {
   "cell_type": "code",
   "execution_count": 71,
   "metadata": {},
   "outputs": [],
   "source": [
    "param_grid_logreg = {'C':[0.0001,0.001,0.01,0.1,1,10,100], 'penalty':['l1','l2']}\n",
    "param_grid_rf = {'n_estimators' : [50,60],\n",
    "               'max_depth': range(5,16,2)}\n",
    "param_grid_ada = {'n_estimators':[50,60,70]}\n",
    "param_grid_bagging = {'n_estimators':[50,60,70]}"
   ]
  },
  {
   "cell_type": "code",
   "execution_count": 72,
   "metadata": {},
   "outputs": [],
   "source": [
    "def feature_selection(model,X_train,y_train):\n",
    "    rfe_model = RFE(model)\n",
    "    rfe_model = rfe_model.fit(X_train,y_train)\n",
    "    X_train_cols = list(X_train.columns[rfe_model.support_])\n",
    "    X_train_new = X_train[X_train_cols]\n",
    "    return X_train_new\n",
    "\n",
    "def grid(model,parameters,X_train_new):\n",
    "    grid = GridSearchCV(estimator = model, param_grid = parameters, cv = 10, return_train_score = False,\n",
    "                        scoring = 'accuracy')\n",
    "    grid.fit(X_train_new,y_train)\n",
    "    return grid.best_score_, grid.best_estimator_\n",
    "\n",
    "def main(model,X_train,y_train,parameters):\n",
    "    X_train_modi = feature_selection(model,X_train,y_train)\n",
    "    grid_best_score,grid_best_params = grid(model,parameters,X_train_modi)\n",
    "    return grid_best_score,grid_best_params,X_train_modi"
   ]
  },
  {
   "cell_type": "code",
   "execution_count": 73,
   "metadata": {},
   "outputs": [
    {
     "name": "stderr",
     "output_type": "stream",
     "text": [
      "C:\\Users\\User\\Anaconda3\\lib\\site-packages\\sklearn\\linear_model\\_logistic.py:939: ConvergenceWarning: lbfgs failed to converge (status=1):\n",
      "STOP: TOTAL NO. of ITERATIONS REACHED LIMIT.\n",
      "\n",
      "Increase the number of iterations (max_iter) or scale the data as shown in:\n",
      "    https://scikit-learn.org/stable/modules/preprocessing.html.\n",
      "Please also refer to the documentation for alternative solver options:\n",
      "    https://scikit-learn.org/stable/modules/linear_model.html#logistic-regression\n",
      "  extra_warning_msg=_LOGISTIC_SOLVER_CONVERGENCE_MSG)\n",
      "C:\\Users\\User\\Anaconda3\\lib\\site-packages\\sklearn\\linear_model\\_logistic.py:939: ConvergenceWarning: lbfgs failed to converge (status=1):\n",
      "STOP: TOTAL NO. of ITERATIONS REACHED LIMIT.\n",
      "\n",
      "Increase the number of iterations (max_iter) or scale the data as shown in:\n",
      "    https://scikit-learn.org/stable/modules/preprocessing.html.\n",
      "Please also refer to the documentation for alternative solver options:\n",
      "    https://scikit-learn.org/stable/modules/linear_model.html#logistic-regression\n",
      "  extra_warning_msg=_LOGISTIC_SOLVER_CONVERGENCE_MSG)\n",
      "C:\\Users\\User\\Anaconda3\\lib\\site-packages\\sklearn\\linear_model\\_logistic.py:939: ConvergenceWarning: lbfgs failed to converge (status=1):\n",
      "STOP: TOTAL NO. of ITERATIONS REACHED LIMIT.\n",
      "\n",
      "Increase the number of iterations (max_iter) or scale the data as shown in:\n",
      "    https://scikit-learn.org/stable/modules/preprocessing.html.\n",
      "Please also refer to the documentation for alternative solver options:\n",
      "    https://scikit-learn.org/stable/modules/linear_model.html#logistic-regression\n",
      "  extra_warning_msg=_LOGISTIC_SOLVER_CONVERGENCE_MSG)\n",
      "C:\\Users\\User\\Anaconda3\\lib\\site-packages\\sklearn\\linear_model\\_logistic.py:939: ConvergenceWarning: lbfgs failed to converge (status=1):\n",
      "STOP: TOTAL NO. of ITERATIONS REACHED LIMIT.\n",
      "\n",
      "Increase the number of iterations (max_iter) or scale the data as shown in:\n",
      "    https://scikit-learn.org/stable/modules/preprocessing.html.\n",
      "Please also refer to the documentation for alternative solver options:\n",
      "    https://scikit-learn.org/stable/modules/linear_model.html#logistic-regression\n",
      "  extra_warning_msg=_LOGISTIC_SOLVER_CONVERGENCE_MSG)\n",
      "C:\\Users\\User\\Anaconda3\\lib\\site-packages\\sklearn\\linear_model\\_logistic.py:939: ConvergenceWarning: lbfgs failed to converge (status=1):\n",
      "STOP: TOTAL NO. of ITERATIONS REACHED LIMIT.\n",
      "\n",
      "Increase the number of iterations (max_iter) or scale the data as shown in:\n",
      "    https://scikit-learn.org/stable/modules/preprocessing.html.\n",
      "Please also refer to the documentation for alternative solver options:\n",
      "    https://scikit-learn.org/stable/modules/linear_model.html#logistic-regression\n",
      "  extra_warning_msg=_LOGISTIC_SOLVER_CONVERGENCE_MSG)\n",
      "C:\\Users\\User\\Anaconda3\\lib\\site-packages\\sklearn\\linear_model\\_logistic.py:939: ConvergenceWarning: lbfgs failed to converge (status=1):\n",
      "STOP: TOTAL NO. of ITERATIONS REACHED LIMIT.\n",
      "\n",
      "Increase the number of iterations (max_iter) or scale the data as shown in:\n",
      "    https://scikit-learn.org/stable/modules/preprocessing.html.\n",
      "Please also refer to the documentation for alternative solver options:\n",
      "    https://scikit-learn.org/stable/modules/linear_model.html#logistic-regression\n",
      "  extra_warning_msg=_LOGISTIC_SOLVER_CONVERGENCE_MSG)\n",
      "C:\\Users\\User\\Anaconda3\\lib\\site-packages\\sklearn\\linear_model\\_logistic.py:939: ConvergenceWarning: lbfgs failed to converge (status=1):\n",
      "STOP: TOTAL NO. of ITERATIONS REACHED LIMIT.\n",
      "\n",
      "Increase the number of iterations (max_iter) or scale the data as shown in:\n",
      "    https://scikit-learn.org/stable/modules/preprocessing.html.\n",
      "Please also refer to the documentation for alternative solver options:\n",
      "    https://scikit-learn.org/stable/modules/linear_model.html#logistic-regression\n",
      "  extra_warning_msg=_LOGISTIC_SOLVER_CONVERGENCE_MSG)\n",
      "C:\\Users\\User\\Anaconda3\\lib\\site-packages\\sklearn\\linear_model\\_logistic.py:939: ConvergenceWarning: lbfgs failed to converge (status=1):\n",
      "STOP: TOTAL NO. of ITERATIONS REACHED LIMIT.\n",
      "\n",
      "Increase the number of iterations (max_iter) or scale the data as shown in:\n",
      "    https://scikit-learn.org/stable/modules/preprocessing.html.\n",
      "Please also refer to the documentation for alternative solver options:\n",
      "    https://scikit-learn.org/stable/modules/linear_model.html#logistic-regression\n",
      "  extra_warning_msg=_LOGISTIC_SOLVER_CONVERGENCE_MSG)\n",
      "C:\\Users\\User\\Anaconda3\\lib\\site-packages\\sklearn\\linear_model\\_logistic.py:939: ConvergenceWarning: lbfgs failed to converge (status=1):\n",
      "STOP: TOTAL NO. of ITERATIONS REACHED LIMIT.\n",
      "\n",
      "Increase the number of iterations (max_iter) or scale the data as shown in:\n",
      "    https://scikit-learn.org/stable/modules/preprocessing.html.\n",
      "Please also refer to the documentation for alternative solver options:\n",
      "    https://scikit-learn.org/stable/modules/linear_model.html#logistic-regression\n",
      "  extra_warning_msg=_LOGISTIC_SOLVER_CONVERGENCE_MSG)\n",
      "C:\\Users\\User\\Anaconda3\\lib\\site-packages\\sklearn\\linear_model\\_logistic.py:939: ConvergenceWarning: lbfgs failed to converge (status=1):\n",
      "STOP: TOTAL NO. of ITERATIONS REACHED LIMIT.\n",
      "\n",
      "Increase the number of iterations (max_iter) or scale the data as shown in:\n",
      "    https://scikit-learn.org/stable/modules/preprocessing.html.\n",
      "Please also refer to the documentation for alternative solver options:\n",
      "    https://scikit-learn.org/stable/modules/linear_model.html#logistic-regression\n",
      "  extra_warning_msg=_LOGISTIC_SOLVER_CONVERGENCE_MSG)\n",
      "C:\\Users\\User\\Anaconda3\\lib\\site-packages\\sklearn\\linear_model\\_logistic.py:939: ConvergenceWarning: lbfgs failed to converge (status=1):\n",
      "STOP: TOTAL NO. of ITERATIONS REACHED LIMIT.\n",
      "\n",
      "Increase the number of iterations (max_iter) or scale the data as shown in:\n",
      "    https://scikit-learn.org/stable/modules/preprocessing.html.\n",
      "Please also refer to the documentation for alternative solver options:\n",
      "    https://scikit-learn.org/stable/modules/linear_model.html#logistic-regression\n",
      "  extra_warning_msg=_LOGISTIC_SOLVER_CONVERGENCE_MSG)\n",
      "C:\\Users\\User\\Anaconda3\\lib\\site-packages\\sklearn\\linear_model\\_logistic.py:939: ConvergenceWarning: lbfgs failed to converge (status=1):\n",
      "STOP: TOTAL NO. of ITERATIONS REACHED LIMIT.\n",
      "\n",
      "Increase the number of iterations (max_iter) or scale the data as shown in:\n",
      "    https://scikit-learn.org/stable/modules/preprocessing.html.\n",
      "Please also refer to the documentation for alternative solver options:\n",
      "    https://scikit-learn.org/stable/modules/linear_model.html#logistic-regression\n",
      "  extra_warning_msg=_LOGISTIC_SOLVER_CONVERGENCE_MSG)\n",
      "C:\\Users\\User\\Anaconda3\\lib\\site-packages\\sklearn\\linear_model\\_logistic.py:939: ConvergenceWarning: lbfgs failed to converge (status=1):\n",
      "STOP: TOTAL NO. of ITERATIONS REACHED LIMIT.\n",
      "\n",
      "Increase the number of iterations (max_iter) or scale the data as shown in:\n",
      "    https://scikit-learn.org/stable/modules/preprocessing.html.\n",
      "Please also refer to the documentation for alternative solver options:\n",
      "    https://scikit-learn.org/stable/modules/linear_model.html#logistic-regression\n",
      "  extra_warning_msg=_LOGISTIC_SOLVER_CONVERGENCE_MSG)\n",
      "C:\\Users\\User\\Anaconda3\\lib\\site-packages\\sklearn\\linear_model\\_logistic.py:939: ConvergenceWarning: lbfgs failed to converge (status=1):\n",
      "STOP: TOTAL NO. of ITERATIONS REACHED LIMIT.\n",
      "\n",
      "Increase the number of iterations (max_iter) or scale the data as shown in:\n",
      "    https://scikit-learn.org/stable/modules/preprocessing.html.\n",
      "Please also refer to the documentation for alternative solver options:\n",
      "    https://scikit-learn.org/stable/modules/linear_model.html#logistic-regression\n",
      "  extra_warning_msg=_LOGISTIC_SOLVER_CONVERGENCE_MSG)\n",
      "C:\\Users\\User\\Anaconda3\\lib\\site-packages\\sklearn\\linear_model\\_logistic.py:939: ConvergenceWarning: lbfgs failed to converge (status=1):\n",
      "STOP: TOTAL NO. of ITERATIONS REACHED LIMIT.\n",
      "\n",
      "Increase the number of iterations (max_iter) or scale the data as shown in:\n",
      "    https://scikit-learn.org/stable/modules/preprocessing.html.\n",
      "Please also refer to the documentation for alternative solver options:\n",
      "    https://scikit-learn.org/stable/modules/linear_model.html#logistic-regression\n",
      "  extra_warning_msg=_LOGISTIC_SOLVER_CONVERGENCE_MSG)\n",
      "C:\\Users\\User\\Anaconda3\\lib\\site-packages\\sklearn\\linear_model\\_logistic.py:939: ConvergenceWarning: lbfgs failed to converge (status=1):\n",
      "STOP: TOTAL NO. of ITERATIONS REACHED LIMIT.\n",
      "\n",
      "Increase the number of iterations (max_iter) or scale the data as shown in:\n",
      "    https://scikit-learn.org/stable/modules/preprocessing.html.\n",
      "Please also refer to the documentation for alternative solver options:\n",
      "    https://scikit-learn.org/stable/modules/linear_model.html#logistic-regression\n",
      "  extra_warning_msg=_LOGISTIC_SOLVER_CONVERGENCE_MSG)\n"
     ]
    },
    {
     "name": "stderr",
     "output_type": "stream",
     "text": [
      "C:\\Users\\User\\Anaconda3\\lib\\site-packages\\sklearn\\linear_model\\_logistic.py:939: ConvergenceWarning: lbfgs failed to converge (status=1):\n",
      "STOP: TOTAL NO. of ITERATIONS REACHED LIMIT.\n",
      "\n",
      "Increase the number of iterations (max_iter) or scale the data as shown in:\n",
      "    https://scikit-learn.org/stable/modules/preprocessing.html.\n",
      "Please also refer to the documentation for alternative solver options:\n",
      "    https://scikit-learn.org/stable/modules/linear_model.html#logistic-regression\n",
      "  extra_warning_msg=_LOGISTIC_SOLVER_CONVERGENCE_MSG)\n",
      "C:\\Users\\User\\Anaconda3\\lib\\site-packages\\sklearn\\linear_model\\_logistic.py:939: ConvergenceWarning: lbfgs failed to converge (status=1):\n",
      "STOP: TOTAL NO. of ITERATIONS REACHED LIMIT.\n",
      "\n",
      "Increase the number of iterations (max_iter) or scale the data as shown in:\n",
      "    https://scikit-learn.org/stable/modules/preprocessing.html.\n",
      "Please also refer to the documentation for alternative solver options:\n",
      "    https://scikit-learn.org/stable/modules/linear_model.html#logistic-regression\n",
      "  extra_warning_msg=_LOGISTIC_SOLVER_CONVERGENCE_MSG)\n",
      "C:\\Users\\User\\Anaconda3\\lib\\site-packages\\sklearn\\linear_model\\_logistic.py:939: ConvergenceWarning: lbfgs failed to converge (status=1):\n",
      "STOP: TOTAL NO. of ITERATIONS REACHED LIMIT.\n",
      "\n",
      "Increase the number of iterations (max_iter) or scale the data as shown in:\n",
      "    https://scikit-learn.org/stable/modules/preprocessing.html.\n",
      "Please also refer to the documentation for alternative solver options:\n",
      "    https://scikit-learn.org/stable/modules/linear_model.html#logistic-regression\n",
      "  extra_warning_msg=_LOGISTIC_SOLVER_CONVERGENCE_MSG)\n",
      "C:\\Users\\User\\Anaconda3\\lib\\site-packages\\sklearn\\linear_model\\_logistic.py:939: ConvergenceWarning: lbfgs failed to converge (status=1):\n",
      "STOP: TOTAL NO. of ITERATIONS REACHED LIMIT.\n",
      "\n",
      "Increase the number of iterations (max_iter) or scale the data as shown in:\n",
      "    https://scikit-learn.org/stable/modules/preprocessing.html.\n",
      "Please also refer to the documentation for alternative solver options:\n",
      "    https://scikit-learn.org/stable/modules/linear_model.html#logistic-regression\n",
      "  extra_warning_msg=_LOGISTIC_SOLVER_CONVERGENCE_MSG)\n",
      "C:\\Users\\User\\Anaconda3\\lib\\site-packages\\sklearn\\linear_model\\_logistic.py:939: ConvergenceWarning: lbfgs failed to converge (status=1):\n",
      "STOP: TOTAL NO. of ITERATIONS REACHED LIMIT.\n",
      "\n",
      "Increase the number of iterations (max_iter) or scale the data as shown in:\n",
      "    https://scikit-learn.org/stable/modules/preprocessing.html.\n",
      "Please also refer to the documentation for alternative solver options:\n",
      "    https://scikit-learn.org/stable/modules/linear_model.html#logistic-regression\n",
      "  extra_warning_msg=_LOGISTIC_SOLVER_CONVERGENCE_MSG)\n",
      "C:\\Users\\User\\Anaconda3\\lib\\site-packages\\sklearn\\linear_model\\_logistic.py:939: ConvergenceWarning: lbfgs failed to converge (status=1):\n",
      "STOP: TOTAL NO. of ITERATIONS REACHED LIMIT.\n",
      "\n",
      "Increase the number of iterations (max_iter) or scale the data as shown in:\n",
      "    https://scikit-learn.org/stable/modules/preprocessing.html.\n",
      "Please also refer to the documentation for alternative solver options:\n",
      "    https://scikit-learn.org/stable/modules/linear_model.html#logistic-regression\n",
      "  extra_warning_msg=_LOGISTIC_SOLVER_CONVERGENCE_MSG)\n",
      "C:\\Users\\User\\Anaconda3\\lib\\site-packages\\sklearn\\linear_model\\_logistic.py:939: ConvergenceWarning: lbfgs failed to converge (status=1):\n",
      "STOP: TOTAL NO. of ITERATIONS REACHED LIMIT.\n",
      "\n",
      "Increase the number of iterations (max_iter) or scale the data as shown in:\n",
      "    https://scikit-learn.org/stable/modules/preprocessing.html.\n",
      "Please also refer to the documentation for alternative solver options:\n",
      "    https://scikit-learn.org/stable/modules/linear_model.html#logistic-regression\n",
      "  extra_warning_msg=_LOGISTIC_SOLVER_CONVERGENCE_MSG)\n",
      "C:\\Users\\User\\Anaconda3\\lib\\site-packages\\sklearn\\linear_model\\_logistic.py:939: ConvergenceWarning: lbfgs failed to converge (status=1):\n",
      "STOP: TOTAL NO. of ITERATIONS REACHED LIMIT.\n",
      "\n",
      "Increase the number of iterations (max_iter) or scale the data as shown in:\n",
      "    https://scikit-learn.org/stable/modules/preprocessing.html.\n",
      "Please also refer to the documentation for alternative solver options:\n",
      "    https://scikit-learn.org/stable/modules/linear_model.html#logistic-regression\n",
      "  extra_warning_msg=_LOGISTIC_SOLVER_CONVERGENCE_MSG)\n",
      "C:\\Users\\User\\Anaconda3\\lib\\site-packages\\sklearn\\linear_model\\_logistic.py:939: ConvergenceWarning: lbfgs failed to converge (status=1):\n",
      "STOP: TOTAL NO. of ITERATIONS REACHED LIMIT.\n",
      "\n",
      "Increase the number of iterations (max_iter) or scale the data as shown in:\n",
      "    https://scikit-learn.org/stable/modules/preprocessing.html.\n",
      "Please also refer to the documentation for alternative solver options:\n",
      "    https://scikit-learn.org/stable/modules/linear_model.html#logistic-regression\n",
      "  extra_warning_msg=_LOGISTIC_SOLVER_CONVERGENCE_MSG)\n",
      "C:\\Users\\User\\Anaconda3\\lib\\site-packages\\sklearn\\linear_model\\_logistic.py:939: ConvergenceWarning: lbfgs failed to converge (status=1):\n",
      "STOP: TOTAL NO. of ITERATIONS REACHED LIMIT.\n",
      "\n",
      "Increase the number of iterations (max_iter) or scale the data as shown in:\n",
      "    https://scikit-learn.org/stable/modules/preprocessing.html.\n",
      "Please also refer to the documentation for alternative solver options:\n",
      "    https://scikit-learn.org/stable/modules/linear_model.html#logistic-regression\n",
      "  extra_warning_msg=_LOGISTIC_SOLVER_CONVERGENCE_MSG)\n",
      "C:\\Users\\User\\Anaconda3\\lib\\site-packages\\sklearn\\linear_model\\_logistic.py:939: ConvergenceWarning: lbfgs failed to converge (status=1):\n",
      "STOP: TOTAL NO. of ITERATIONS REACHED LIMIT.\n",
      "\n",
      "Increase the number of iterations (max_iter) or scale the data as shown in:\n",
      "    https://scikit-learn.org/stable/modules/preprocessing.html.\n",
      "Please also refer to the documentation for alternative solver options:\n",
      "    https://scikit-learn.org/stable/modules/linear_model.html#logistic-regression\n",
      "  extra_warning_msg=_LOGISTIC_SOLVER_CONVERGENCE_MSG)\n",
      "C:\\Users\\User\\Anaconda3\\lib\\site-packages\\sklearn\\linear_model\\_logistic.py:939: ConvergenceWarning: lbfgs failed to converge (status=1):\n",
      "STOP: TOTAL NO. of ITERATIONS REACHED LIMIT.\n",
      "\n",
      "Increase the number of iterations (max_iter) or scale the data as shown in:\n",
      "    https://scikit-learn.org/stable/modules/preprocessing.html.\n",
      "Please also refer to the documentation for alternative solver options:\n",
      "    https://scikit-learn.org/stable/modules/linear_model.html#logistic-regression\n",
      "  extra_warning_msg=_LOGISTIC_SOLVER_CONVERGENCE_MSG)\n",
      "C:\\Users\\User\\Anaconda3\\lib\\site-packages\\sklearn\\linear_model\\_logistic.py:939: ConvergenceWarning: lbfgs failed to converge (status=1):\n",
      "STOP: TOTAL NO. of ITERATIONS REACHED LIMIT.\n",
      "\n",
      "Increase the number of iterations (max_iter) or scale the data as shown in:\n",
      "    https://scikit-learn.org/stable/modules/preprocessing.html.\n",
      "Please also refer to the documentation for alternative solver options:\n",
      "    https://scikit-learn.org/stable/modules/linear_model.html#logistic-regression\n",
      "  extra_warning_msg=_LOGISTIC_SOLVER_CONVERGENCE_MSG)\n",
      "C:\\Users\\User\\Anaconda3\\lib\\site-packages\\sklearn\\linear_model\\_logistic.py:939: ConvergenceWarning: lbfgs failed to converge (status=1):\n",
      "STOP: TOTAL NO. of ITERATIONS REACHED LIMIT.\n",
      "\n",
      "Increase the number of iterations (max_iter) or scale the data as shown in:\n",
      "    https://scikit-learn.org/stable/modules/preprocessing.html.\n",
      "Please also refer to the documentation for alternative solver options:\n",
      "    https://scikit-learn.org/stable/modules/linear_model.html#logistic-regression\n",
      "  extra_warning_msg=_LOGISTIC_SOLVER_CONVERGENCE_MSG)\n",
      "C:\\Users\\User\\Anaconda3\\lib\\site-packages\\sklearn\\linear_model\\_logistic.py:939: ConvergenceWarning: lbfgs failed to converge (status=1):\n",
      "STOP: TOTAL NO. of ITERATIONS REACHED LIMIT.\n",
      "\n",
      "Increase the number of iterations (max_iter) or scale the data as shown in:\n",
      "    https://scikit-learn.org/stable/modules/preprocessing.html.\n",
      "Please also refer to the documentation for alternative solver options:\n",
      "    https://scikit-learn.org/stable/modules/linear_model.html#logistic-regression\n",
      "  extra_warning_msg=_LOGISTIC_SOLVER_CONVERGENCE_MSG)\n",
      "C:\\Users\\User\\Anaconda3\\lib\\site-packages\\sklearn\\linear_model\\_logistic.py:939: ConvergenceWarning: lbfgs failed to converge (status=1):\n",
      "STOP: TOTAL NO. of ITERATIONS REACHED LIMIT.\n",
      "\n",
      "Increase the number of iterations (max_iter) or scale the data as shown in:\n",
      "    https://scikit-learn.org/stable/modules/preprocessing.html.\n",
      "Please also refer to the documentation for alternative solver options:\n",
      "    https://scikit-learn.org/stable/modules/linear_model.html#logistic-regression\n",
      "  extra_warning_msg=_LOGISTIC_SOLVER_CONVERGENCE_MSG)\n"
     ]
    },
    {
     "name": "stderr",
     "output_type": "stream",
     "text": [
      "C:\\Users\\User\\Anaconda3\\lib\\site-packages\\sklearn\\linear_model\\_logistic.py:939: ConvergenceWarning: lbfgs failed to converge (status=1):\n",
      "STOP: TOTAL NO. of ITERATIONS REACHED LIMIT.\n",
      "\n",
      "Increase the number of iterations (max_iter) or scale the data as shown in:\n",
      "    https://scikit-learn.org/stable/modules/preprocessing.html.\n",
      "Please also refer to the documentation for alternative solver options:\n",
      "    https://scikit-learn.org/stable/modules/linear_model.html#logistic-regression\n",
      "  extra_warning_msg=_LOGISTIC_SOLVER_CONVERGENCE_MSG)\n",
      "C:\\Users\\User\\Anaconda3\\lib\\site-packages\\sklearn\\linear_model\\_logistic.py:939: ConvergenceWarning: lbfgs failed to converge (status=1):\n",
      "STOP: TOTAL NO. of ITERATIONS REACHED LIMIT.\n",
      "\n",
      "Increase the number of iterations (max_iter) or scale the data as shown in:\n",
      "    https://scikit-learn.org/stable/modules/preprocessing.html.\n",
      "Please also refer to the documentation for alternative solver options:\n",
      "    https://scikit-learn.org/stable/modules/linear_model.html#logistic-regression\n",
      "  extra_warning_msg=_LOGISTIC_SOLVER_CONVERGENCE_MSG)\n",
      "C:\\Users\\User\\Anaconda3\\lib\\site-packages\\sklearn\\linear_model\\_logistic.py:939: ConvergenceWarning: lbfgs failed to converge (status=1):\n",
      "STOP: TOTAL NO. of ITERATIONS REACHED LIMIT.\n",
      "\n",
      "Increase the number of iterations (max_iter) or scale the data as shown in:\n",
      "    https://scikit-learn.org/stable/modules/preprocessing.html.\n",
      "Please also refer to the documentation for alternative solver options:\n",
      "    https://scikit-learn.org/stable/modules/linear_model.html#logistic-regression\n",
      "  extra_warning_msg=_LOGISTIC_SOLVER_CONVERGENCE_MSG)\n",
      "C:\\Users\\User\\Anaconda3\\lib\\site-packages\\sklearn\\linear_model\\_logistic.py:939: ConvergenceWarning: lbfgs failed to converge (status=1):\n",
      "STOP: TOTAL NO. of ITERATIONS REACHED LIMIT.\n",
      "\n",
      "Increase the number of iterations (max_iter) or scale the data as shown in:\n",
      "    https://scikit-learn.org/stable/modules/preprocessing.html.\n",
      "Please also refer to the documentation for alternative solver options:\n",
      "    https://scikit-learn.org/stable/modules/linear_model.html#logistic-regression\n",
      "  extra_warning_msg=_LOGISTIC_SOLVER_CONVERGENCE_MSG)\n",
      "C:\\Users\\User\\Anaconda3\\lib\\site-packages\\sklearn\\linear_model\\_logistic.py:939: ConvergenceWarning: lbfgs failed to converge (status=1):\n",
      "STOP: TOTAL NO. of ITERATIONS REACHED LIMIT.\n",
      "\n",
      "Increase the number of iterations (max_iter) or scale the data as shown in:\n",
      "    https://scikit-learn.org/stable/modules/preprocessing.html.\n",
      "Please also refer to the documentation for alternative solver options:\n",
      "    https://scikit-learn.org/stable/modules/linear_model.html#logistic-regression\n",
      "  extra_warning_msg=_LOGISTIC_SOLVER_CONVERGENCE_MSG)\n",
      "C:\\Users\\User\\Anaconda3\\lib\\site-packages\\sklearn\\linear_model\\_logistic.py:939: ConvergenceWarning: lbfgs failed to converge (status=1):\n",
      "STOP: TOTAL NO. of ITERATIONS REACHED LIMIT.\n",
      "\n",
      "Increase the number of iterations (max_iter) or scale the data as shown in:\n",
      "    https://scikit-learn.org/stable/modules/preprocessing.html.\n",
      "Please also refer to the documentation for alternative solver options:\n",
      "    https://scikit-learn.org/stable/modules/linear_model.html#logistic-regression\n",
      "  extra_warning_msg=_LOGISTIC_SOLVER_CONVERGENCE_MSG)\n",
      "C:\\Users\\User\\Anaconda3\\lib\\site-packages\\sklearn\\linear_model\\_logistic.py:939: ConvergenceWarning: lbfgs failed to converge (status=1):\n",
      "STOP: TOTAL NO. of ITERATIONS REACHED LIMIT.\n",
      "\n",
      "Increase the number of iterations (max_iter) or scale the data as shown in:\n",
      "    https://scikit-learn.org/stable/modules/preprocessing.html.\n",
      "Please also refer to the documentation for alternative solver options:\n",
      "    https://scikit-learn.org/stable/modules/linear_model.html#logistic-regression\n",
      "  extra_warning_msg=_LOGISTIC_SOLVER_CONVERGENCE_MSG)\n",
      "C:\\Users\\User\\Anaconda3\\lib\\site-packages\\sklearn\\linear_model\\_logistic.py:939: ConvergenceWarning: lbfgs failed to converge (status=1):\n",
      "STOP: TOTAL NO. of ITERATIONS REACHED LIMIT.\n",
      "\n",
      "Increase the number of iterations (max_iter) or scale the data as shown in:\n",
      "    https://scikit-learn.org/stable/modules/preprocessing.html.\n",
      "Please also refer to the documentation for alternative solver options:\n",
      "    https://scikit-learn.org/stable/modules/linear_model.html#logistic-regression\n",
      "  extra_warning_msg=_LOGISTIC_SOLVER_CONVERGENCE_MSG)\n",
      "C:\\Users\\User\\Anaconda3\\lib\\site-packages\\sklearn\\linear_model\\_logistic.py:939: ConvergenceWarning: lbfgs failed to converge (status=1):\n",
      "STOP: TOTAL NO. of ITERATIONS REACHED LIMIT.\n",
      "\n",
      "Increase the number of iterations (max_iter) or scale the data as shown in:\n",
      "    https://scikit-learn.org/stable/modules/preprocessing.html.\n",
      "Please also refer to the documentation for alternative solver options:\n",
      "    https://scikit-learn.org/stable/modules/linear_model.html#logistic-regression\n",
      "  extra_warning_msg=_LOGISTIC_SOLVER_CONVERGENCE_MSG)\n",
      "C:\\Users\\User\\Anaconda3\\lib\\site-packages\\sklearn\\linear_model\\_logistic.py:939: ConvergenceWarning: lbfgs failed to converge (status=1):\n",
      "STOP: TOTAL NO. of ITERATIONS REACHED LIMIT.\n",
      "\n",
      "Increase the number of iterations (max_iter) or scale the data as shown in:\n",
      "    https://scikit-learn.org/stable/modules/preprocessing.html.\n",
      "Please also refer to the documentation for alternative solver options:\n",
      "    https://scikit-learn.org/stable/modules/linear_model.html#logistic-regression\n",
      "  extra_warning_msg=_LOGISTIC_SOLVER_CONVERGENCE_MSG)\n",
      "C:\\Users\\User\\Anaconda3\\lib\\site-packages\\sklearn\\linear_model\\_logistic.py:939: ConvergenceWarning: lbfgs failed to converge (status=1):\n",
      "STOP: TOTAL NO. of ITERATIONS REACHED LIMIT.\n",
      "\n",
      "Increase the number of iterations (max_iter) or scale the data as shown in:\n",
      "    https://scikit-learn.org/stable/modules/preprocessing.html.\n",
      "Please also refer to the documentation for alternative solver options:\n",
      "    https://scikit-learn.org/stable/modules/linear_model.html#logistic-regression\n",
      "  extra_warning_msg=_LOGISTIC_SOLVER_CONVERGENCE_MSG)\n",
      "C:\\Users\\User\\Anaconda3\\lib\\site-packages\\sklearn\\model_selection\\_validation.py:536: FitFailedWarning: Estimator fit failed. The score on this train-test partition for these parameters will be set to nan. Details: \n",
      "ValueError: Solver lbfgs supports only 'l2' or 'none' penalties, got l1 penalty.\n",
      "\n",
      "  FitFailedWarning)\n",
      "C:\\Users\\User\\Anaconda3\\lib\\site-packages\\sklearn\\model_selection\\_validation.py:536: FitFailedWarning: Estimator fit failed. The score on this train-test partition for these parameters will be set to nan. Details: \n",
      "ValueError: Solver lbfgs supports only 'l2' or 'none' penalties, got l1 penalty.\n",
      "\n",
      "  FitFailedWarning)\n",
      "C:\\Users\\User\\Anaconda3\\lib\\site-packages\\sklearn\\model_selection\\_validation.py:536: FitFailedWarning: Estimator fit failed. The score on this train-test partition for these parameters will be set to nan. Details: \n",
      "ValueError: Solver lbfgs supports only 'l2' or 'none' penalties, got l1 penalty.\n",
      "\n",
      "  FitFailedWarning)\n",
      "C:\\Users\\User\\Anaconda3\\lib\\site-packages\\sklearn\\model_selection\\_validation.py:536: FitFailedWarning: Estimator fit failed. The score on this train-test partition for these parameters will be set to nan. Details: \n",
      "ValueError: Solver lbfgs supports only 'l2' or 'none' penalties, got l1 penalty.\n",
      "\n",
      "  FitFailedWarning)\n",
      "C:\\Users\\User\\Anaconda3\\lib\\site-packages\\sklearn\\model_selection\\_validation.py:536: FitFailedWarning: Estimator fit failed. The score on this train-test partition for these parameters will be set to nan. Details: \n",
      "ValueError: Solver lbfgs supports only 'l2' or 'none' penalties, got l1 penalty.\n",
      "\n",
      "  FitFailedWarning)\n",
      "C:\\Users\\User\\Anaconda3\\lib\\site-packages\\sklearn\\model_selection\\_validation.py:536: FitFailedWarning: Estimator fit failed. The score on this train-test partition for these parameters will be set to nan. Details: \n",
      "ValueError: Solver lbfgs supports only 'l2' or 'none' penalties, got l1 penalty.\n",
      "\n",
      "  FitFailedWarning)\n",
      "C:\\Users\\User\\Anaconda3\\lib\\site-packages\\sklearn\\linear_model\\_logistic.py:939: ConvergenceWarning: lbfgs failed to converge (status=1):\n",
      "STOP: TOTAL NO. of ITERATIONS REACHED LIMIT.\n",
      "\n",
      "Increase the number of iterations (max_iter) or scale the data as shown in:\n",
      "    https://scikit-learn.org/stable/modules/preprocessing.html.\n",
      "Please also refer to the documentation for alternative solver options:\n",
      "    https://scikit-learn.org/stable/modules/linear_model.html#logistic-regression\n",
      "  extra_warning_msg=_LOGISTIC_SOLVER_CONVERGENCE_MSG)\n"
     ]
    },
    {
     "name": "stderr",
     "output_type": "stream",
     "text": [
      "C:\\Users\\User\\Anaconda3\\lib\\site-packages\\sklearn\\linear_model\\_logistic.py:939: ConvergenceWarning: lbfgs failed to converge (status=1):\n",
      "STOP: TOTAL NO. of ITERATIONS REACHED LIMIT.\n",
      "\n",
      "Increase the number of iterations (max_iter) or scale the data as shown in:\n",
      "    https://scikit-learn.org/stable/modules/preprocessing.html.\n",
      "Please also refer to the documentation for alternative solver options:\n",
      "    https://scikit-learn.org/stable/modules/linear_model.html#logistic-regression\n",
      "  extra_warning_msg=_LOGISTIC_SOLVER_CONVERGENCE_MSG)\n",
      "C:\\Users\\User\\Anaconda3\\lib\\site-packages\\sklearn\\linear_model\\_logistic.py:939: ConvergenceWarning: lbfgs failed to converge (status=1):\n",
      "STOP: TOTAL NO. of ITERATIONS REACHED LIMIT.\n",
      "\n",
      "Increase the number of iterations (max_iter) or scale the data as shown in:\n",
      "    https://scikit-learn.org/stable/modules/preprocessing.html.\n",
      "Please also refer to the documentation for alternative solver options:\n",
      "    https://scikit-learn.org/stable/modules/linear_model.html#logistic-regression\n",
      "  extra_warning_msg=_LOGISTIC_SOLVER_CONVERGENCE_MSG)\n",
      "C:\\Users\\User\\Anaconda3\\lib\\site-packages\\sklearn\\linear_model\\_logistic.py:939: ConvergenceWarning: lbfgs failed to converge (status=1):\n",
      "STOP: TOTAL NO. of ITERATIONS REACHED LIMIT.\n",
      "\n",
      "Increase the number of iterations (max_iter) or scale the data as shown in:\n",
      "    https://scikit-learn.org/stable/modules/preprocessing.html.\n",
      "Please also refer to the documentation for alternative solver options:\n",
      "    https://scikit-learn.org/stable/modules/linear_model.html#logistic-regression\n",
      "  extra_warning_msg=_LOGISTIC_SOLVER_CONVERGENCE_MSG)\n",
      "C:\\Users\\User\\Anaconda3\\lib\\site-packages\\sklearn\\linear_model\\_logistic.py:939: ConvergenceWarning: lbfgs failed to converge (status=1):\n",
      "STOP: TOTAL NO. of ITERATIONS REACHED LIMIT.\n",
      "\n",
      "Increase the number of iterations (max_iter) or scale the data as shown in:\n",
      "    https://scikit-learn.org/stable/modules/preprocessing.html.\n",
      "Please also refer to the documentation for alternative solver options:\n",
      "    https://scikit-learn.org/stable/modules/linear_model.html#logistic-regression\n",
      "  extra_warning_msg=_LOGISTIC_SOLVER_CONVERGENCE_MSG)\n",
      "C:\\Users\\User\\Anaconda3\\lib\\site-packages\\sklearn\\linear_model\\_logistic.py:939: ConvergenceWarning: lbfgs failed to converge (status=1):\n",
      "STOP: TOTAL NO. of ITERATIONS REACHED LIMIT.\n",
      "\n",
      "Increase the number of iterations (max_iter) or scale the data as shown in:\n",
      "    https://scikit-learn.org/stable/modules/preprocessing.html.\n",
      "Please also refer to the documentation for alternative solver options:\n",
      "    https://scikit-learn.org/stable/modules/linear_model.html#logistic-regression\n",
      "  extra_warning_msg=_LOGISTIC_SOLVER_CONVERGENCE_MSG)\n",
      "C:\\Users\\User\\Anaconda3\\lib\\site-packages\\sklearn\\linear_model\\_logistic.py:939: ConvergenceWarning: lbfgs failed to converge (status=1):\n",
      "STOP: TOTAL NO. of ITERATIONS REACHED LIMIT.\n",
      "\n",
      "Increase the number of iterations (max_iter) or scale the data as shown in:\n",
      "    https://scikit-learn.org/stable/modules/preprocessing.html.\n",
      "Please also refer to the documentation for alternative solver options:\n",
      "    https://scikit-learn.org/stable/modules/linear_model.html#logistic-regression\n",
      "  extra_warning_msg=_LOGISTIC_SOLVER_CONVERGENCE_MSG)\n",
      "C:\\Users\\User\\Anaconda3\\lib\\site-packages\\sklearn\\linear_model\\_logistic.py:939: ConvergenceWarning: lbfgs failed to converge (status=1):\n",
      "STOP: TOTAL NO. of ITERATIONS REACHED LIMIT.\n",
      "\n",
      "Increase the number of iterations (max_iter) or scale the data as shown in:\n",
      "    https://scikit-learn.org/stable/modules/preprocessing.html.\n",
      "Please also refer to the documentation for alternative solver options:\n",
      "    https://scikit-learn.org/stable/modules/linear_model.html#logistic-regression\n",
      "  extra_warning_msg=_LOGISTIC_SOLVER_CONVERGENCE_MSG)\n",
      "C:\\Users\\User\\Anaconda3\\lib\\site-packages\\sklearn\\linear_model\\_logistic.py:939: ConvergenceWarning: lbfgs failed to converge (status=1):\n",
      "STOP: TOTAL NO. of ITERATIONS REACHED LIMIT.\n",
      "\n",
      "Increase the number of iterations (max_iter) or scale the data as shown in:\n",
      "    https://scikit-learn.org/stable/modules/preprocessing.html.\n",
      "Please also refer to the documentation for alternative solver options:\n",
      "    https://scikit-learn.org/stable/modules/linear_model.html#logistic-regression\n",
      "  extra_warning_msg=_LOGISTIC_SOLVER_CONVERGENCE_MSG)\n",
      "C:\\Users\\User\\Anaconda3\\lib\\site-packages\\sklearn\\linear_model\\_logistic.py:939: ConvergenceWarning: lbfgs failed to converge (status=1):\n",
      "STOP: TOTAL NO. of ITERATIONS REACHED LIMIT.\n",
      "\n",
      "Increase the number of iterations (max_iter) or scale the data as shown in:\n",
      "    https://scikit-learn.org/stable/modules/preprocessing.html.\n",
      "Please also refer to the documentation for alternative solver options:\n",
      "    https://scikit-learn.org/stable/modules/linear_model.html#logistic-regression\n",
      "  extra_warning_msg=_LOGISTIC_SOLVER_CONVERGENCE_MSG)\n",
      "C:\\Users\\User\\Anaconda3\\lib\\site-packages\\sklearn\\model_selection\\_validation.py:536: FitFailedWarning: Estimator fit failed. The score on this train-test partition for these parameters will be set to nan. Details: \n",
      "ValueError: Solver lbfgs supports only 'l2' or 'none' penalties, got l1 penalty.\n",
      "\n",
      "  FitFailedWarning)\n",
      "C:\\Users\\User\\Anaconda3\\lib\\site-packages\\sklearn\\linear_model\\_logistic.py:939: ConvergenceWarning: lbfgs failed to converge (status=1):\n",
      "STOP: TOTAL NO. of ITERATIONS REACHED LIMIT.\n",
      "\n",
      "Increase the number of iterations (max_iter) or scale the data as shown in:\n",
      "    https://scikit-learn.org/stable/modules/preprocessing.html.\n",
      "Please also refer to the documentation for alternative solver options:\n",
      "    https://scikit-learn.org/stable/modules/linear_model.html#logistic-regression\n",
      "  extra_warning_msg=_LOGISTIC_SOLVER_CONVERGENCE_MSG)\n",
      "C:\\Users\\User\\Anaconda3\\lib\\site-packages\\sklearn\\linear_model\\_logistic.py:939: ConvergenceWarning: lbfgs failed to converge (status=1):\n",
      "STOP: TOTAL NO. of ITERATIONS REACHED LIMIT.\n",
      "\n",
      "Increase the number of iterations (max_iter) or scale the data as shown in:\n",
      "    https://scikit-learn.org/stable/modules/preprocessing.html.\n",
      "Please also refer to the documentation for alternative solver options:\n",
      "    https://scikit-learn.org/stable/modules/linear_model.html#logistic-regression\n",
      "  extra_warning_msg=_LOGISTIC_SOLVER_CONVERGENCE_MSG)\n",
      "C:\\Users\\User\\Anaconda3\\lib\\site-packages\\sklearn\\linear_model\\_logistic.py:939: ConvergenceWarning: lbfgs failed to converge (status=1):\n",
      "STOP: TOTAL NO. of ITERATIONS REACHED LIMIT.\n",
      "\n",
      "Increase the number of iterations (max_iter) or scale the data as shown in:\n",
      "    https://scikit-learn.org/stable/modules/preprocessing.html.\n",
      "Please also refer to the documentation for alternative solver options:\n",
      "    https://scikit-learn.org/stable/modules/linear_model.html#logistic-regression\n",
      "  extra_warning_msg=_LOGISTIC_SOLVER_CONVERGENCE_MSG)\n",
      "C:\\Users\\User\\Anaconda3\\lib\\site-packages\\sklearn\\linear_model\\_logistic.py:939: ConvergenceWarning: lbfgs failed to converge (status=1):\n",
      "STOP: TOTAL NO. of ITERATIONS REACHED LIMIT.\n",
      "\n",
      "Increase the number of iterations (max_iter) or scale the data as shown in:\n",
      "    https://scikit-learn.org/stable/modules/preprocessing.html.\n",
      "Please also refer to the documentation for alternative solver options:\n",
      "    https://scikit-learn.org/stable/modules/linear_model.html#logistic-regression\n",
      "  extra_warning_msg=_LOGISTIC_SOLVER_CONVERGENCE_MSG)\n",
      "C:\\Users\\User\\Anaconda3\\lib\\site-packages\\sklearn\\linear_model\\_logistic.py:939: ConvergenceWarning: lbfgs failed to converge (status=1):\n",
      "STOP: TOTAL NO. of ITERATIONS REACHED LIMIT.\n",
      "\n",
      "Increase the number of iterations (max_iter) or scale the data as shown in:\n",
      "    https://scikit-learn.org/stable/modules/preprocessing.html.\n",
      "Please also refer to the documentation for alternative solver options:\n",
      "    https://scikit-learn.org/stable/modules/linear_model.html#logistic-regression\n",
      "  extra_warning_msg=_LOGISTIC_SOLVER_CONVERGENCE_MSG)\n",
      "C:\\Users\\User\\Anaconda3\\lib\\site-packages\\sklearn\\linear_model\\_logistic.py:939: ConvergenceWarning: lbfgs failed to converge (status=1):\n",
      "STOP: TOTAL NO. of ITERATIONS REACHED LIMIT.\n",
      "\n",
      "Increase the number of iterations (max_iter) or scale the data as shown in:\n",
      "    https://scikit-learn.org/stable/modules/preprocessing.html.\n",
      "Please also refer to the documentation for alternative solver options:\n",
      "    https://scikit-learn.org/stable/modules/linear_model.html#logistic-regression\n",
      "  extra_warning_msg=_LOGISTIC_SOLVER_CONVERGENCE_MSG)\n"
     ]
    },
    {
     "name": "stderr",
     "output_type": "stream",
     "text": [
      "C:\\Users\\User\\Anaconda3\\lib\\site-packages\\sklearn\\linear_model\\_logistic.py:939: ConvergenceWarning: lbfgs failed to converge (status=1):\n",
      "STOP: TOTAL NO. of ITERATIONS REACHED LIMIT.\n",
      "\n",
      "Increase the number of iterations (max_iter) or scale the data as shown in:\n",
      "    https://scikit-learn.org/stable/modules/preprocessing.html.\n",
      "Please also refer to the documentation for alternative solver options:\n",
      "    https://scikit-learn.org/stable/modules/linear_model.html#logistic-regression\n",
      "  extra_warning_msg=_LOGISTIC_SOLVER_CONVERGENCE_MSG)\n",
      "C:\\Users\\User\\Anaconda3\\lib\\site-packages\\sklearn\\linear_model\\_logistic.py:939: ConvergenceWarning: lbfgs failed to converge (status=1):\n",
      "STOP: TOTAL NO. of ITERATIONS REACHED LIMIT.\n",
      "\n",
      "Increase the number of iterations (max_iter) or scale the data as shown in:\n",
      "    https://scikit-learn.org/stable/modules/preprocessing.html.\n",
      "Please also refer to the documentation for alternative solver options:\n",
      "    https://scikit-learn.org/stable/modules/linear_model.html#logistic-regression\n",
      "  extra_warning_msg=_LOGISTIC_SOLVER_CONVERGENCE_MSG)\n",
      "C:\\Users\\User\\Anaconda3\\lib\\site-packages\\sklearn\\linear_model\\_logistic.py:939: ConvergenceWarning: lbfgs failed to converge (status=1):\n",
      "STOP: TOTAL NO. of ITERATIONS REACHED LIMIT.\n",
      "\n",
      "Increase the number of iterations (max_iter) or scale the data as shown in:\n",
      "    https://scikit-learn.org/stable/modules/preprocessing.html.\n",
      "Please also refer to the documentation for alternative solver options:\n",
      "    https://scikit-learn.org/stable/modules/linear_model.html#logistic-regression\n",
      "  extra_warning_msg=_LOGISTIC_SOLVER_CONVERGENCE_MSG)\n",
      "C:\\Users\\User\\Anaconda3\\lib\\site-packages\\sklearn\\linear_model\\_logistic.py:939: ConvergenceWarning: lbfgs failed to converge (status=1):\n",
      "STOP: TOTAL NO. of ITERATIONS REACHED LIMIT.\n",
      "\n",
      "Increase the number of iterations (max_iter) or scale the data as shown in:\n",
      "    https://scikit-learn.org/stable/modules/preprocessing.html.\n",
      "Please also refer to the documentation for alternative solver options:\n",
      "    https://scikit-learn.org/stable/modules/linear_model.html#logistic-regression\n",
      "  extra_warning_msg=_LOGISTIC_SOLVER_CONVERGENCE_MSG)\n",
      "C:\\Users\\User\\Anaconda3\\lib\\site-packages\\sklearn\\linear_model\\_logistic.py:939: ConvergenceWarning: lbfgs failed to converge (status=1):\n",
      "STOP: TOTAL NO. of ITERATIONS REACHED LIMIT.\n",
      "\n",
      "Increase the number of iterations (max_iter) or scale the data as shown in:\n",
      "    https://scikit-learn.org/stable/modules/preprocessing.html.\n",
      "Please also refer to the documentation for alternative solver options:\n",
      "    https://scikit-learn.org/stable/modules/linear_model.html#logistic-regression\n",
      "  extra_warning_msg=_LOGISTIC_SOLVER_CONVERGENCE_MSG)\n"
     ]
    }
   ],
   "source": [
    "grid_best_score_logreg, grid_best_params_logreg , X_train_modi_logreg = main(clf_logreg,X_train,y_train,param_grid_logreg)\n",
    "grid_best_score_rf, grid_best_params_rf , X_train_modi_rf = main(clf_forest,X_train,y_train,param_grid_rf)\n",
    "grid_best_score_ab, grid_best_params_ab , X_train_modi_ab = main(clf_ada,X_train,y_train,param_grid_ada)\n",
    "grid_best_score_bc, grid_best_params_bc , X_train_modi_bc = main(clf_ada,X_train,y_train,param_grid_bagging)"
   ]
  },
  {
   "cell_type": "markdown",
   "metadata": {},
   "source": [
    "## **Итоги**"
   ]
  },
  {
   "cell_type": "markdown",
   "metadata": {},
   "source": [
    "После обучения нейросети мы имеем следущие оценки точности предсказания"
   ]
  },
  {
   "cell_type": "code",
   "execution_count": 74,
   "metadata": {},
   "outputs": [
    {
     "data": {
      "text/html": [
       "<div>\n",
       "<style scoped>\n",
       "    .dataframe tbody tr th:only-of-type {\n",
       "        vertical-align: middle;\n",
       "    }\n",
       "\n",
       "    .dataframe tbody tr th {\n",
       "        vertical-align: top;\n",
       "    }\n",
       "\n",
       "    .dataframe thead th {\n",
       "        text-align: right;\n",
       "    }\n",
       "</style>\n",
       "<table border=\"1\" class=\"dataframe\">\n",
       "  <thead>\n",
       "    <tr style=\"text-align: right;\">\n",
       "      <th></th>\n",
       "      <th>Accuracy Score</th>\n",
       "    </tr>\n",
       "  </thead>\n",
       "  <tbody>\n",
       "    <tr>\n",
       "      <td>AdaBoost</td>\n",
       "      <td>0.856271</td>\n",
       "    </tr>\n",
       "    <tr>\n",
       "      <td>Bagging</td>\n",
       "      <td>0.856271</td>\n",
       "    </tr>\n",
       "    <tr>\n",
       "      <td>RandomForest</td>\n",
       "      <td>0.854695</td>\n",
       "    </tr>\n",
       "    <tr>\n",
       "      <td>LogisticRegression</td>\n",
       "      <td>0.846853</td>\n",
       "    </tr>\n",
       "  </tbody>\n",
       "</table>\n",
       "</div>"
      ],
      "text/plain": [
       "                    Accuracy Score\n",
       "AdaBoost                  0.856271\n",
       "Bagging                   0.856271\n",
       "RandomForest              0.854695\n",
       "LogisticRegression        0.846853"
      ]
     },
     "execution_count": 74,
     "metadata": {},
     "output_type": "execute_result"
    }
   ],
   "source": [
    "pd.DataFrame([grid_best_score_logreg, grid_best_score_rf,grid_best_score_ab,grid_best_score_bc],\n",
    "             index = ['LogisticRegression','RandomForest','AdaBoost','Bagging'],\n",
    "             columns = ['Accuracy Score']).sort_values(by = 'Accuracy Score',ascending  = False)"
   ]
  },
  {
   "cell_type": "code",
   "execution_count": 77,
   "metadata": {},
   "outputs": [
    {
     "name": "stdout",
     "output_type": "stream",
     "text": [
      "К-во оценщиков: 70\n"
     ]
    }
   ],
   "source": [
    "print(\"К-во оценщиков:\",grid_best_params_ab.get_params()['n_estimators'])"
   ]
  }
 ],
 "metadata": {
  "kernelspec": {
   "display_name": "Python 3",
   "language": "python",
   "name": "python3"
  },
  "language_info": {
   "codemirror_mode": {
    "name": "ipython",
    "version": 3
   },
   "file_extension": ".py",
   "mimetype": "text/x-python",
   "name": "python",
   "nbconvert_exporter": "python",
   "pygments_lexer": "ipython3",
   "version": "3.7.4"
  }
 },
 "nbformat": 4,
 "nbformat_minor": 2
}
